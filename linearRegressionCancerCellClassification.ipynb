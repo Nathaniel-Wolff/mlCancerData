{
 "cells": [
  {
   "cell_type": "markdown",
   "metadata": {
    "id": "bnVL1-cEoYiv",
    "slideshow": {
     "slide_type": "slide"
    }
   },
   "source": [
    "# LINEAR REGRESSION IN PYTHON (BME 230)\n",
    "\n",
    "Single variable linear regression is a simple form of machine learning. The purpose of this practice is to fairly completely understand single variable linear regression in a computational biology setting. The result should help you understand basic ideas in machine learning and how you can use these models in your research.\n",
    "\n",
    "This lecture assumes you have a working knowledge of Python, Pandas and Numpy and will teach you some scikit-learn.\n",
    "\n",
    "\n",
    "#### DATASET http://archive.ics.uci.edu/ml/machine-learning-databases/breast-cancer-wisconsin/\n",
    "\n",
    "#### Link to processed datafile from Google Drive if you want to download:\n",
    "\n",
    "https://drive.google.com/file/d/1FZbQCEHr2Rie4cXSM6Udg0SaWTtPnEHO/view?usp=sharing"
   ]
  },
  {
   "cell_type": "markdown",
   "metadata": {
    "id": "oV_d27jBoYiw",
    "slideshow": {
     "slide_type": "subslide"
    }
   },
   "source": [
    "# Wisconsin Breast Cancer Database\n",
    "\n",
    "\n",
    "1. Number of Instances: 699 (as of 15 July 1992)\n",
    "\n",
    "2. Number of Attributes: 10 plus the class attribute\n",
    "\n",
    "3. Attribute Information: (class attribute has been moved to last column)\n",
    "   Attribute                     Domain\n",
    "   1. Sample code number            id number\n",
    "   2. Clump Thickness               1 - 10\n",
    "   3. Uniformity of Cell Size       1 - 10\n",
    "   4. Uniformity of Cell Shape      1 - 10\n",
    "   5. Marginal Adhesion             1 - 10\n",
    "   6. Single Epithelial Cell Size   1 - 10\n",
    "   7. Bare Nuclei                   1 - 10\n",
    "   8. Bland Chromatin               1 - 10\n",
    "   9. Normal Nucleoli               1 - 10\n",
    "  10. Mitoses                       1 - 10\n",
    "  11. Class:                        (2 for benign, 4 for malignant)\n",
    "\n",
    "4. Missing attribute values: 16\n",
    "\n",
    "   There are 16 instances in Groups 1 to 6 that contain a single missing \n",
    "   (i.e., unavailable) attribute value, now denoted by \"?\".  \n",
    "\n",
    "5. Class distribution:\n",
    " \n",
    "   Benign: 458 (65.5%)\n",
    "   Malignant: 241 (34.5%)"
   ]
  },
  {
   "cell_type": "markdown",
   "metadata": {
    "id": "cboeB36MR7os",
    "slideshow": {
     "slide_type": "subslide"
    }
   },
   "source": [
    "# Load the data"
   ]
  },
  {
   "cell_type": "markdown",
   "metadata": {
    "id": "jtudC3AoR-Ce",
    "slideshow": {
     "slide_type": "fragment"
    }
   },
   "source": [
    "First copy the data from Google Drive to a local file.\n",
    "\n",
    "The data is in a comma separated value (csv) file:\n",
    "\n",
    "![alt text](https://static.goanywhere.com/images/tutorials/csv-to-database/input-file.png)\n",
    "\n",
    "* Above is an illustration of CSV format. Each line gives a comma separated sequence of N text strings\n",
    "\n",
    "* CSV files are like simple tables."
   ]
  },
  {
   "cell_type": "code",
   "execution_count": 3,
   "metadata": {
    "colab": {
     "base_uri": "https://localhost:8080/"
    },
    "executionInfo": {
     "elapsed": 9,
     "status": "ok",
     "timestamp": 1644455758604,
     "user": {
      "displayName": "Benedict Paten",
      "photoUrl": "https://lh3.googleusercontent.com/a-/AOh14Gh2rYrrH6yoNnUp0Oj4p4ouybc6ZcWGyPmKFtIY=s64",
      "userId": "06399644931392855882"
     },
     "user_tz": 480
    },
    "id": "0pJJt8Vwlq09",
    "outputId": "bd0cd1f7-748c-407f-c1d8-f10df140dd29",
    "slideshow": {
     "slide_type": "subslide"
    }
   },
   "outputs": [
    {
     "data": {
      "text/plain": [
       "('cancer_data.csv', <http.client.HTTPMessage at 0x15cd2bb50>)"
      ]
     },
     "execution_count": 3,
     "metadata": {},
     "output_type": "execute_result"
    }
   ],
   "source": [
    "# Copy the file from the internet\n",
    "import urllib.request\n",
    "\n",
    "url = \"https://raw.githubusercontent.com/benedictpaten/intro_python/main/lecture_notebooks/data/breast-cancer-wisconsin.data.csv\"\n",
    "cancer_data_file = 'cancer_data.csv'\n",
    "\n",
    "urllib.request.urlretrieve(url, cancer_data_file) # This function copies the thing the url points at into\n",
    "# a local file copy"
   ]
  },
  {
   "cell_type": "markdown",
   "metadata": {
    "id": "-JnmvI-ERILG",
    "slideshow": {
     "slide_type": "subslide"
    }
   },
   "source": [
    "**Import the Pandas and Numpy modules**\n",
    "\n",
    "* Numpy is an \"array\" and \"matrix\" library, used to represent large collections of data efficiently in Python\n",
    "\n",
    "* Pandas builds on Numpy to provide a \"spreadsheet like\" package for manipulating tables of data and performing statistical analyses.\n",
    "\n",
    "* For more details see the appendices at the end of the notebook and the linked tutorials."
   ]
  },
  {
   "cell_type": "code",
   "execution_count": 6,
   "metadata": {
    "colab": {
     "base_uri": "https://localhost:8080/",
     "height": 205
    },
    "executionInfo": {
     "elapsed": 316,
     "status": "ok",
     "timestamp": 1644455761473,
     "user": {
      "displayName": "Benedict Paten",
      "photoUrl": "https://lh3.googleusercontent.com/a-/AOh14Gh2rYrrH6yoNnUp0Oj4p4ouybc6ZcWGyPmKFtIY=s64",
      "userId": "06399644931392855882"
     },
     "user_tz": 480
    },
    "id": "r6QGbwsdoYiy",
    "outputId": "ad447122-8394-46f4-d3b6-7a6588706ae4",
    "slideshow": {
     "slide_type": "fragment"
    }
   },
   "outputs": [
    {
     "data": {
      "text/html": [
       "<div>\n",
       "<style scoped>\n",
       "    .dataframe tbody tr th:only-of-type {\n",
       "        vertical-align: middle;\n",
       "    }\n",
       "\n",
       "    .dataframe tbody tr th {\n",
       "        vertical-align: top;\n",
       "    }\n",
       "\n",
       "    .dataframe thead th {\n",
       "        text-align: right;\n",
       "    }\n",
       "</style>\n",
       "<table border=\"1\" class=\"dataframe\">\n",
       "  <thead>\n",
       "    <tr style=\"text-align: right;\">\n",
       "      <th></th>\n",
       "      <th>id</th>\n",
       "      <th>clump-thickness</th>\n",
       "      <th>uniformity-of-cell-size</th>\n",
       "      <th>uniformity-of-cell-shape</th>\n",
       "      <th>marginal-adhesion</th>\n",
       "      <th>single-epithelial-cell-size</th>\n",
       "      <th>bare-nuclei</th>\n",
       "      <th>bland-chromatin</th>\n",
       "      <th>normal-nucleoli</th>\n",
       "      <th>mitoses</th>\n",
       "      <th>class</th>\n",
       "    </tr>\n",
       "  </thead>\n",
       "  <tbody>\n",
       "    <tr>\n",
       "      <th>0</th>\n",
       "      <td>1000025</td>\n",
       "      <td>5</td>\n",
       "      <td>1</td>\n",
       "      <td>1</td>\n",
       "      <td>1</td>\n",
       "      <td>2</td>\n",
       "      <td>1</td>\n",
       "      <td>3</td>\n",
       "      <td>1</td>\n",
       "      <td>1</td>\n",
       "      <td>2</td>\n",
       "    </tr>\n",
       "    <tr>\n",
       "      <th>1</th>\n",
       "      <td>1002945</td>\n",
       "      <td>5</td>\n",
       "      <td>4</td>\n",
       "      <td>4</td>\n",
       "      <td>5</td>\n",
       "      <td>7</td>\n",
       "      <td>10</td>\n",
       "      <td>3</td>\n",
       "      <td>2</td>\n",
       "      <td>1</td>\n",
       "      <td>2</td>\n",
       "    </tr>\n",
       "    <tr>\n",
       "      <th>2</th>\n",
       "      <td>1015425</td>\n",
       "      <td>3</td>\n",
       "      <td>1</td>\n",
       "      <td>1</td>\n",
       "      <td>1</td>\n",
       "      <td>2</td>\n",
       "      <td>2</td>\n",
       "      <td>3</td>\n",
       "      <td>1</td>\n",
       "      <td>1</td>\n",
       "      <td>2</td>\n",
       "    </tr>\n",
       "    <tr>\n",
       "      <th>3</th>\n",
       "      <td>1016277</td>\n",
       "      <td>6</td>\n",
       "      <td>8</td>\n",
       "      <td>8</td>\n",
       "      <td>1</td>\n",
       "      <td>3</td>\n",
       "      <td>4</td>\n",
       "      <td>3</td>\n",
       "      <td>7</td>\n",
       "      <td>1</td>\n",
       "      <td>2</td>\n",
       "    </tr>\n",
       "    <tr>\n",
       "      <th>4</th>\n",
       "      <td>1017023</td>\n",
       "      <td>4</td>\n",
       "      <td>1</td>\n",
       "      <td>1</td>\n",
       "      <td>3</td>\n",
       "      <td>2</td>\n",
       "      <td>1</td>\n",
       "      <td>3</td>\n",
       "      <td>1</td>\n",
       "      <td>1</td>\n",
       "      <td>2</td>\n",
       "    </tr>\n",
       "    <tr>\n",
       "      <th>5</th>\n",
       "      <td>1017122</td>\n",
       "      <td>8</td>\n",
       "      <td>10</td>\n",
       "      <td>10</td>\n",
       "      <td>8</td>\n",
       "      <td>7</td>\n",
       "      <td>10</td>\n",
       "      <td>9</td>\n",
       "      <td>7</td>\n",
       "      <td>1</td>\n",
       "      <td>4</td>\n",
       "    </tr>\n",
       "    <tr>\n",
       "      <th>6</th>\n",
       "      <td>1018099</td>\n",
       "      <td>1</td>\n",
       "      <td>1</td>\n",
       "      <td>1</td>\n",
       "      <td>1</td>\n",
       "      <td>2</td>\n",
       "      <td>10</td>\n",
       "      <td>3</td>\n",
       "      <td>1</td>\n",
       "      <td>1</td>\n",
       "      <td>2</td>\n",
       "    </tr>\n",
       "    <tr>\n",
       "      <th>7</th>\n",
       "      <td>1018561</td>\n",
       "      <td>2</td>\n",
       "      <td>1</td>\n",
       "      <td>2</td>\n",
       "      <td>1</td>\n",
       "      <td>2</td>\n",
       "      <td>1</td>\n",
       "      <td>3</td>\n",
       "      <td>1</td>\n",
       "      <td>1</td>\n",
       "      <td>2</td>\n",
       "    </tr>\n",
       "    <tr>\n",
       "      <th>8</th>\n",
       "      <td>1033078</td>\n",
       "      <td>2</td>\n",
       "      <td>1</td>\n",
       "      <td>1</td>\n",
       "      <td>1</td>\n",
       "      <td>2</td>\n",
       "      <td>1</td>\n",
       "      <td>1</td>\n",
       "      <td>1</td>\n",
       "      <td>5</td>\n",
       "      <td>2</td>\n",
       "    </tr>\n",
       "    <tr>\n",
       "      <th>9</th>\n",
       "      <td>1033078</td>\n",
       "      <td>4</td>\n",
       "      <td>2</td>\n",
       "      <td>1</td>\n",
       "      <td>1</td>\n",
       "      <td>2</td>\n",
       "      <td>1</td>\n",
       "      <td>2</td>\n",
       "      <td>1</td>\n",
       "      <td>1</td>\n",
       "      <td>2</td>\n",
       "    </tr>\n",
       "    <tr>\n",
       "      <th>10</th>\n",
       "      <td>1035283</td>\n",
       "      <td>1</td>\n",
       "      <td>1</td>\n",
       "      <td>1</td>\n",
       "      <td>1</td>\n",
       "      <td>1</td>\n",
       "      <td>1</td>\n",
       "      <td>3</td>\n",
       "      <td>1</td>\n",
       "      <td>1</td>\n",
       "      <td>2</td>\n",
       "    </tr>\n",
       "    <tr>\n",
       "      <th>11</th>\n",
       "      <td>1036172</td>\n",
       "      <td>2</td>\n",
       "      <td>1</td>\n",
       "      <td>1</td>\n",
       "      <td>1</td>\n",
       "      <td>2</td>\n",
       "      <td>1</td>\n",
       "      <td>2</td>\n",
       "      <td>1</td>\n",
       "      <td>1</td>\n",
       "      <td>2</td>\n",
       "    </tr>\n",
       "    <tr>\n",
       "      <th>12</th>\n",
       "      <td>1041801</td>\n",
       "      <td>5</td>\n",
       "      <td>3</td>\n",
       "      <td>3</td>\n",
       "      <td>3</td>\n",
       "      <td>2</td>\n",
       "      <td>3</td>\n",
       "      <td>4</td>\n",
       "      <td>4</td>\n",
       "      <td>1</td>\n",
       "      <td>4</td>\n",
       "    </tr>\n",
       "    <tr>\n",
       "      <th>13</th>\n",
       "      <td>1043999</td>\n",
       "      <td>1</td>\n",
       "      <td>1</td>\n",
       "      <td>1</td>\n",
       "      <td>1</td>\n",
       "      <td>2</td>\n",
       "      <td>3</td>\n",
       "      <td>3</td>\n",
       "      <td>1</td>\n",
       "      <td>1</td>\n",
       "      <td>2</td>\n",
       "    </tr>\n",
       "    <tr>\n",
       "      <th>14</th>\n",
       "      <td>1044572</td>\n",
       "      <td>8</td>\n",
       "      <td>7</td>\n",
       "      <td>5</td>\n",
       "      <td>10</td>\n",
       "      <td>7</td>\n",
       "      <td>9</td>\n",
       "      <td>5</td>\n",
       "      <td>5</td>\n",
       "      <td>4</td>\n",
       "      <td>4</td>\n",
       "    </tr>\n",
       "    <tr>\n",
       "      <th>15</th>\n",
       "      <td>1047630</td>\n",
       "      <td>7</td>\n",
       "      <td>4</td>\n",
       "      <td>6</td>\n",
       "      <td>4</td>\n",
       "      <td>6</td>\n",
       "      <td>1</td>\n",
       "      <td>4</td>\n",
       "      <td>3</td>\n",
       "      <td>1</td>\n",
       "      <td>4</td>\n",
       "    </tr>\n",
       "    <tr>\n",
       "      <th>16</th>\n",
       "      <td>1048672</td>\n",
       "      <td>4</td>\n",
       "      <td>1</td>\n",
       "      <td>1</td>\n",
       "      <td>1</td>\n",
       "      <td>2</td>\n",
       "      <td>1</td>\n",
       "      <td>2</td>\n",
       "      <td>1</td>\n",
       "      <td>1</td>\n",
       "      <td>2</td>\n",
       "    </tr>\n",
       "    <tr>\n",
       "      <th>17</th>\n",
       "      <td>1049815</td>\n",
       "      <td>4</td>\n",
       "      <td>1</td>\n",
       "      <td>1</td>\n",
       "      <td>1</td>\n",
       "      <td>2</td>\n",
       "      <td>1</td>\n",
       "      <td>3</td>\n",
       "      <td>1</td>\n",
       "      <td>1</td>\n",
       "      <td>2</td>\n",
       "    </tr>\n",
       "    <tr>\n",
       "      <th>18</th>\n",
       "      <td>1050670</td>\n",
       "      <td>10</td>\n",
       "      <td>7</td>\n",
       "      <td>7</td>\n",
       "      <td>6</td>\n",
       "      <td>4</td>\n",
       "      <td>10</td>\n",
       "      <td>4</td>\n",
       "      <td>1</td>\n",
       "      <td>2</td>\n",
       "      <td>4</td>\n",
       "    </tr>\n",
       "    <tr>\n",
       "      <th>19</th>\n",
       "      <td>1050718</td>\n",
       "      <td>6</td>\n",
       "      <td>1</td>\n",
       "      <td>1</td>\n",
       "      <td>1</td>\n",
       "      <td>2</td>\n",
       "      <td>1</td>\n",
       "      <td>3</td>\n",
       "      <td>1</td>\n",
       "      <td>1</td>\n",
       "      <td>2</td>\n",
       "    </tr>\n",
       "  </tbody>\n",
       "</table>\n",
       "</div>"
      ],
      "text/plain": [
       "         id  clump-thickness  uniformity-of-cell-size  \\\n",
       "0   1000025                5                        1   \n",
       "1   1002945                5                        4   \n",
       "2   1015425                3                        1   \n",
       "3   1016277                6                        8   \n",
       "4   1017023                4                        1   \n",
       "5   1017122                8                       10   \n",
       "6   1018099                1                        1   \n",
       "7   1018561                2                        1   \n",
       "8   1033078                2                        1   \n",
       "9   1033078                4                        2   \n",
       "10  1035283                1                        1   \n",
       "11  1036172                2                        1   \n",
       "12  1041801                5                        3   \n",
       "13  1043999                1                        1   \n",
       "14  1044572                8                        7   \n",
       "15  1047630                7                        4   \n",
       "16  1048672                4                        1   \n",
       "17  1049815                4                        1   \n",
       "18  1050670               10                        7   \n",
       "19  1050718                6                        1   \n",
       "\n",
       "    uniformity-of-cell-shape  marginal-adhesion  single-epithelial-cell-size  \\\n",
       "0                          1                  1                            2   \n",
       "1                          4                  5                            7   \n",
       "2                          1                  1                            2   \n",
       "3                          8                  1                            3   \n",
       "4                          1                  3                            2   \n",
       "5                         10                  8                            7   \n",
       "6                          1                  1                            2   \n",
       "7                          2                  1                            2   \n",
       "8                          1                  1                            2   \n",
       "9                          1                  1                            2   \n",
       "10                         1                  1                            1   \n",
       "11                         1                  1                            2   \n",
       "12                         3                  3                            2   \n",
       "13                         1                  1                            2   \n",
       "14                         5                 10                            7   \n",
       "15                         6                  4                            6   \n",
       "16                         1                  1                            2   \n",
       "17                         1                  1                            2   \n",
       "18                         7                  6                            4   \n",
       "19                         1                  1                            2   \n",
       "\n",
       "   bare-nuclei  bland-chromatin  normal-nucleoli  mitoses  class  \n",
       "0            1                3                1        1      2  \n",
       "1           10                3                2        1      2  \n",
       "2            2                3                1        1      2  \n",
       "3            4                3                7        1      2  \n",
       "4            1                3                1        1      2  \n",
       "5           10                9                7        1      4  \n",
       "6           10                3                1        1      2  \n",
       "7            1                3                1        1      2  \n",
       "8            1                1                1        5      2  \n",
       "9            1                2                1        1      2  \n",
       "10           1                3                1        1      2  \n",
       "11           1                2                1        1      2  \n",
       "12           3                4                4        1      4  \n",
       "13           3                3                1        1      2  \n",
       "14           9                5                5        4      4  \n",
       "15           1                4                3        1      4  \n",
       "16           1                2                1        1      2  \n",
       "17           1                3                1        1      2  \n",
       "18          10                4                1        2      4  \n",
       "19           1                3                1        1      2  "
      ]
     },
     "execution_count": 6,
     "metadata": {},
     "output_type": "execute_result"
    }
   ],
   "source": [
    "# Load the data into a Pandas data frame\n",
    "\n",
    "import numpy as np\n",
    "import pandas as pd\n",
    "\n",
    "# Read input\n",
    "df = pd.read_csv(\"cancer_data.csv\") #./data/breast-cancer-wisconsin.data.csv\")\n",
    "df.head(20)"
   ]
  },
  {
   "cell_type": "markdown",
   "metadata": {
    "id": "CxK_prIzSAZt",
    "slideshow": {
     "slide_type": "subslide"
    }
   },
   "source": [
    "# Preprocess The Data\n",
    "\n",
    "In data science and machine learning frequently much of the challenge is in preprocessing the data into a format that is ameniable to the algorithms used.\n",
    "\n",
    "Here we don't need to do too much, we just normalize the data.\n",
    "\n",
    "See: https://scikit-learn.org/stable/modules/preprocessing.html"
   ]
  },
  {
   "cell_type": "code",
   "execution_count": 5,
   "metadata": {
    "colab": {
     "base_uri": "https://localhost:8080/",
     "height": 233
    },
    "executionInfo": {
     "elapsed": 20571,
     "status": "ok",
     "timestamp": 1608688408368,
     "user": {
      "displayName": "Benedict Paten",
      "photoUrl": "https://lh3.googleusercontent.com/a-/AOh14Gh2rYrrH6yoNnUp0Oj4p4ouybc6ZcWGyPmKFtIY=s64",
      "userId": "06399644931392855882"
     },
     "user_tz": 480
    },
    "id": "h1pWeA_GoYi4",
    "outputId": "0e348296-9206-47a8-c4e4-145919babbc8",
    "slideshow": {
     "slide_type": "fragment"
    }
   },
   "outputs": [
    {
     "data": {
      "text/html": [
       "<div>\n",
       "<style scoped>\n",
       "    .dataframe tbody tr th:only-of-type {\n",
       "        vertical-align: middle;\n",
       "    }\n",
       "\n",
       "    .dataframe tbody tr th {\n",
       "        vertical-align: top;\n",
       "    }\n",
       "\n",
       "    .dataframe thead th {\n",
       "        text-align: right;\n",
       "    }\n",
       "</style>\n",
       "<table border=\"1\" class=\"dataframe\">\n",
       "  <thead>\n",
       "    <tr style=\"text-align: right;\">\n",
       "      <th></th>\n",
       "      <th>id</th>\n",
       "      <th>clump-thickness</th>\n",
       "      <th>uniformity-of-cell-size</th>\n",
       "      <th>uniformity-of-cell-shape</th>\n",
       "      <th>marginal-adhesion</th>\n",
       "      <th>single-epithelial-cell-size</th>\n",
       "      <th>bare-nuclei</th>\n",
       "      <th>bland-chromatin</th>\n",
       "      <th>normal-nucleoli</th>\n",
       "      <th>mitoses</th>\n",
       "      <th>class</th>\n",
       "    </tr>\n",
       "  </thead>\n",
       "  <tbody>\n",
       "    <tr>\n",
       "      <th>0</th>\n",
       "      <td>172</td>\n",
       "      <td>4</td>\n",
       "      <td>0</td>\n",
       "      <td>0</td>\n",
       "      <td>0</td>\n",
       "      <td>1</td>\n",
       "      <td>0</td>\n",
       "      <td>2</td>\n",
       "      <td>0</td>\n",
       "      <td>0</td>\n",
       "      <td>0</td>\n",
       "    </tr>\n",
       "    <tr>\n",
       "      <th>1</th>\n",
       "      <td>175</td>\n",
       "      <td>4</td>\n",
       "      <td>3</td>\n",
       "      <td>3</td>\n",
       "      <td>4</td>\n",
       "      <td>6</td>\n",
       "      <td>1</td>\n",
       "      <td>2</td>\n",
       "      <td>1</td>\n",
       "      <td>0</td>\n",
       "      <td>0</td>\n",
       "    </tr>\n",
       "    <tr>\n",
       "      <th>2</th>\n",
       "      <td>176</td>\n",
       "      <td>2</td>\n",
       "      <td>0</td>\n",
       "      <td>0</td>\n",
       "      <td>0</td>\n",
       "      <td>1</td>\n",
       "      <td>2</td>\n",
       "      <td>2</td>\n",
       "      <td>0</td>\n",
       "      <td>0</td>\n",
       "      <td>0</td>\n",
       "    </tr>\n",
       "    <tr>\n",
       "      <th>3</th>\n",
       "      <td>177</td>\n",
       "      <td>5</td>\n",
       "      <td>7</td>\n",
       "      <td>7</td>\n",
       "      <td>0</td>\n",
       "      <td>2</td>\n",
       "      <td>4</td>\n",
       "      <td>2</td>\n",
       "      <td>6</td>\n",
       "      <td>0</td>\n",
       "      <td>0</td>\n",
       "    </tr>\n",
       "    <tr>\n",
       "      <th>4</th>\n",
       "      <td>179</td>\n",
       "      <td>3</td>\n",
       "      <td>0</td>\n",
       "      <td>0</td>\n",
       "      <td>2</td>\n",
       "      <td>1</td>\n",
       "      <td>0</td>\n",
       "      <td>2</td>\n",
       "      <td>0</td>\n",
       "      <td>0</td>\n",
       "      <td>0</td>\n",
       "    </tr>\n",
       "    <tr>\n",
       "      <th>5</th>\n",
       "      <td>180</td>\n",
       "      <td>7</td>\n",
       "      <td>9</td>\n",
       "      <td>9</td>\n",
       "      <td>7</td>\n",
       "      <td>6</td>\n",
       "      <td>1</td>\n",
       "      <td>8</td>\n",
       "      <td>6</td>\n",
       "      <td>0</td>\n",
       "      <td>1</td>\n",
       "    </tr>\n",
       "    <tr>\n",
       "      <th>6</th>\n",
       "      <td>181</td>\n",
       "      <td>0</td>\n",
       "      <td>0</td>\n",
       "      <td>0</td>\n",
       "      <td>0</td>\n",
       "      <td>1</td>\n",
       "      <td>1</td>\n",
       "      <td>2</td>\n",
       "      <td>0</td>\n",
       "      <td>0</td>\n",
       "      <td>0</td>\n",
       "    </tr>\n",
       "    <tr>\n",
       "      <th>7</th>\n",
       "      <td>182</td>\n",
       "      <td>1</td>\n",
       "      <td>0</td>\n",
       "      <td>1</td>\n",
       "      <td>0</td>\n",
       "      <td>1</td>\n",
       "      <td>0</td>\n",
       "      <td>2</td>\n",
       "      <td>0</td>\n",
       "      <td>0</td>\n",
       "      <td>0</td>\n",
       "    </tr>\n",
       "    <tr>\n",
       "      <th>8</th>\n",
       "      <td>186</td>\n",
       "      <td>1</td>\n",
       "      <td>0</td>\n",
       "      <td>0</td>\n",
       "      <td>0</td>\n",
       "      <td>1</td>\n",
       "      <td>0</td>\n",
       "      <td>0</td>\n",
       "      <td>0</td>\n",
       "      <td>4</td>\n",
       "      <td>0</td>\n",
       "    </tr>\n",
       "    <tr>\n",
       "      <th>9</th>\n",
       "      <td>186</td>\n",
       "      <td>3</td>\n",
       "      <td>1</td>\n",
       "      <td>0</td>\n",
       "      <td>0</td>\n",
       "      <td>1</td>\n",
       "      <td>0</td>\n",
       "      <td>1</td>\n",
       "      <td>0</td>\n",
       "      <td>0</td>\n",
       "      <td>0</td>\n",
       "    </tr>\n",
       "    <tr>\n",
       "      <th>10</th>\n",
       "      <td>187</td>\n",
       "      <td>0</td>\n",
       "      <td>0</td>\n",
       "      <td>0</td>\n",
       "      <td>0</td>\n",
       "      <td>0</td>\n",
       "      <td>0</td>\n",
       "      <td>2</td>\n",
       "      <td>0</td>\n",
       "      <td>0</td>\n",
       "      <td>0</td>\n",
       "    </tr>\n",
       "    <tr>\n",
       "      <th>11</th>\n",
       "      <td>188</td>\n",
       "      <td>1</td>\n",
       "      <td>0</td>\n",
       "      <td>0</td>\n",
       "      <td>0</td>\n",
       "      <td>1</td>\n",
       "      <td>0</td>\n",
       "      <td>1</td>\n",
       "      <td>0</td>\n",
       "      <td>0</td>\n",
       "      <td>0</td>\n",
       "    </tr>\n",
       "    <tr>\n",
       "      <th>12</th>\n",
       "      <td>190</td>\n",
       "      <td>4</td>\n",
       "      <td>2</td>\n",
       "      <td>2</td>\n",
       "      <td>2</td>\n",
       "      <td>1</td>\n",
       "      <td>3</td>\n",
       "      <td>3</td>\n",
       "      <td>3</td>\n",
       "      <td>0</td>\n",
       "      <td>1</td>\n",
       "    </tr>\n",
       "    <tr>\n",
       "      <th>13</th>\n",
       "      <td>193</td>\n",
       "      <td>0</td>\n",
       "      <td>0</td>\n",
       "      <td>0</td>\n",
       "      <td>0</td>\n",
       "      <td>1</td>\n",
       "      <td>3</td>\n",
       "      <td>2</td>\n",
       "      <td>0</td>\n",
       "      <td>0</td>\n",
       "      <td>0</td>\n",
       "    </tr>\n",
       "    <tr>\n",
       "      <th>14</th>\n",
       "      <td>194</td>\n",
       "      <td>7</td>\n",
       "      <td>6</td>\n",
       "      <td>4</td>\n",
       "      <td>9</td>\n",
       "      <td>6</td>\n",
       "      <td>9</td>\n",
       "      <td>4</td>\n",
       "      <td>4</td>\n",
       "      <td>3</td>\n",
       "      <td>1</td>\n",
       "    </tr>\n",
       "    <tr>\n",
       "      <th>15</th>\n",
       "      <td>195</td>\n",
       "      <td>6</td>\n",
       "      <td>3</td>\n",
       "      <td>5</td>\n",
       "      <td>3</td>\n",
       "      <td>5</td>\n",
       "      <td>0</td>\n",
       "      <td>3</td>\n",
       "      <td>2</td>\n",
       "      <td>0</td>\n",
       "      <td>1</td>\n",
       "    </tr>\n",
       "    <tr>\n",
       "      <th>16</th>\n",
       "      <td>196</td>\n",
       "      <td>3</td>\n",
       "      <td>0</td>\n",
       "      <td>0</td>\n",
       "      <td>0</td>\n",
       "      <td>1</td>\n",
       "      <td>0</td>\n",
       "      <td>1</td>\n",
       "      <td>0</td>\n",
       "      <td>0</td>\n",
       "      <td>0</td>\n",
       "    </tr>\n",
       "    <tr>\n",
       "      <th>17</th>\n",
       "      <td>197</td>\n",
       "      <td>3</td>\n",
       "      <td>0</td>\n",
       "      <td>0</td>\n",
       "      <td>0</td>\n",
       "      <td>1</td>\n",
       "      <td>0</td>\n",
       "      <td>2</td>\n",
       "      <td>0</td>\n",
       "      <td>0</td>\n",
       "      <td>0</td>\n",
       "    </tr>\n",
       "    <tr>\n",
       "      <th>18</th>\n",
       "      <td>199</td>\n",
       "      <td>9</td>\n",
       "      <td>6</td>\n",
       "      <td>6</td>\n",
       "      <td>5</td>\n",
       "      <td>3</td>\n",
       "      <td>1</td>\n",
       "      <td>3</td>\n",
       "      <td>0</td>\n",
       "      <td>1</td>\n",
       "      <td>1</td>\n",
       "    </tr>\n",
       "    <tr>\n",
       "      <th>19</th>\n",
       "      <td>200</td>\n",
       "      <td>5</td>\n",
       "      <td>0</td>\n",
       "      <td>0</td>\n",
       "      <td>0</td>\n",
       "      <td>1</td>\n",
       "      <td>0</td>\n",
       "      <td>2</td>\n",
       "      <td>0</td>\n",
       "      <td>0</td>\n",
       "      <td>0</td>\n",
       "    </tr>\n",
       "  </tbody>\n",
       "</table>\n",
       "</div>"
      ],
      "text/plain": [
       "     id  clump-thickness  uniformity-of-cell-size  uniformity-of-cell-shape  \\\n",
       "0   172                4                        0                         0   \n",
       "1   175                4                        3                         3   \n",
       "2   176                2                        0                         0   \n",
       "3   177                5                        7                         7   \n",
       "4   179                3                        0                         0   \n",
       "5   180                7                        9                         9   \n",
       "6   181                0                        0                         0   \n",
       "7   182                1                        0                         1   \n",
       "8   186                1                        0                         0   \n",
       "9   186                3                        1                         0   \n",
       "10  187                0                        0                         0   \n",
       "11  188                1                        0                         0   \n",
       "12  190                4                        2                         2   \n",
       "13  193                0                        0                         0   \n",
       "14  194                7                        6                         4   \n",
       "15  195                6                        3                         5   \n",
       "16  196                3                        0                         0   \n",
       "17  197                3                        0                         0   \n",
       "18  199                9                        6                         6   \n",
       "19  200                5                        0                         0   \n",
       "\n",
       "    marginal-adhesion  single-epithelial-cell-size  bare-nuclei  \\\n",
       "0                   0                            1            0   \n",
       "1                   4                            6            1   \n",
       "2                   0                            1            2   \n",
       "3                   0                            2            4   \n",
       "4                   2                            1            0   \n",
       "5                   7                            6            1   \n",
       "6                   0                            1            1   \n",
       "7                   0                            1            0   \n",
       "8                   0                            1            0   \n",
       "9                   0                            1            0   \n",
       "10                  0                            0            0   \n",
       "11                  0                            1            0   \n",
       "12                  2                            1            3   \n",
       "13                  0                            1            3   \n",
       "14                  9                            6            9   \n",
       "15                  3                            5            0   \n",
       "16                  0                            1            0   \n",
       "17                  0                            1            0   \n",
       "18                  5                            3            1   \n",
       "19                  0                            1            0   \n",
       "\n",
       "    bland-chromatin  normal-nucleoli  mitoses  class  \n",
       "0                 2                0        0      0  \n",
       "1                 2                1        0      0  \n",
       "2                 2                0        0      0  \n",
       "3                 2                6        0      0  \n",
       "4                 2                0        0      0  \n",
       "5                 8                6        0      1  \n",
       "6                 2                0        0      0  \n",
       "7                 2                0        0      0  \n",
       "8                 0                0        4      0  \n",
       "9                 1                0        0      0  \n",
       "10                2                0        0      0  \n",
       "11                1                0        0      0  \n",
       "12                3                3        0      1  \n",
       "13                2                0        0      0  \n",
       "14                4                4        3      1  \n",
       "15                3                2        0      1  \n",
       "16                1                0        0      0  \n",
       "17                2                0        0      0  \n",
       "18                3                0        1      1  \n",
       "19                2                0        0      0  "
      ]
     },
     "execution_count": 5,
     "metadata": {},
     "output_type": "execute_result"
    }
   ],
   "source": [
    "# Preprocess the data so we can use it for regression with SKLearn. \n",
    "# Access function/method docstrings in jupyter via '?'. Ex: preprocessing.LabelEncoder?\n",
    "from sklearn import preprocessing\n",
    "\n",
    "encoder = preprocessing.LabelEncoder()\n",
    "\n",
    "for col in df.columns: # For each column in the data frame\n",
    "    df[col] = encoder.fit_transform(df[col]) # Transform the series so is zero based\n",
    "    \n",
    "df.head(20)"
   ]
  },
  {
   "cell_type": "markdown",
   "metadata": {
    "id": "jYk6YhfUoYi8",
    "slideshow": {
     "slide_type": "subslide"
    }
   },
   "source": [
    "# Linear Regression w/One Variable\n",
    "\n",
    "We suppose we have a set of pairs:\n",
    "\n",
    "\\begin{equation}\n",
    "(x_1, y_1), (x_2, y_2), \\ldots, (x_n, y_n)\n",
    "\\end{equation}\n",
    "\n",
    "The task is to try to predict $y_i$ given $x_i$. Call our prediction $y'_i$,  in linear regression we use the following simple linear equation for our prediction:\n",
    "\n",
    "\\begin{equation}\n",
    "y'_i = w*x_i+b\n",
    "\\end{equation}"
   ]
  },
  {
   "cell_type": "markdown",
   "metadata": {
    "id": "8i9ui8FXQNSD",
    "slideshow": {
     "slide_type": "fragment"
    }
   },
   "source": [
    "In this picture the pairs:\n",
    "\n",
    "\\begin{equation}\n",
    "(x_1, y_1), (x_2, y_2), \\ldots, (x_n, y_n)\n",
    "\\end{equation}\n",
    "\n",
    "are the blue dots and our prediction:\n",
    "\n",
    "\\begin{equation}\n",
    "y'_i = w*x_i+b\n",
    "\\end{equation}\n",
    "\n",
    "is the red line\n",
    "\n",
    "<img src=\"https://upload.wikimedia.org/wikipedia/commons/thumb/3/3a/Linear_regression.svg/2560px-Linear_regression.svg.png\" width=500 height=300 />\n",
    "\n"
   ]
  },
  {
   "cell_type": "markdown",
   "metadata": {
    "id": "TV1Ip_UEQUX3",
    "slideshow": {
     "slide_type": "subslide"
    }
   },
   "source": [
    "In Python:"
   ]
  },
  {
   "cell_type": "code",
   "execution_count": 4,
   "metadata": {
    "id": "5VNKNxhcoYi-",
    "slideshow": {
     "slide_type": "fragment"
    }
   },
   "outputs": [],
   "source": [
    "def predict(x, w, b):\n",
    "    return x*w + b # return value is a prediction y'"
   ]
  },
  {
   "cell_type": "markdown",
   "metadata": {
    "id": "If42bKJYSfY0",
    "slideshow": {
     "slide_type": "fragment"
    }
   },
   "source": [
    "The task of machine learning here is to learn the parameters of the model, that is $w$ and $b$. **To do this, we need some way of deciding the value of our parameter choices.** \n"
   ]
  },
  {
   "cell_type": "markdown",
   "metadata": {
    "id": "ssouoj37oYjA",
    "slideshow": {
     "slide_type": "subslide"
    }
   },
   "source": [
    "# Cost function (aka loss function/risk function):\n",
    "\n",
    "A loss function is used to determine how well a model predicts, and is used in learning.\n",
    "\n",
    "We are using mean squared error. \n",
    "\\begin{equation}\n",
    "MSE = \\frac{1}{n} \\sum_{i=1}^n (y_i - (wx_i+b))^2\n",
    "\\end{equation}\n",
    "\n",
    "\n",
    "We visualize this error calculation as shown. \n",
    "\n",
    "The error is proportional to the sum of the squared length of the green lines:\n",
    "\n",
    "<img src=\"https://upload.wikimedia.org/wikipedia/commons/5/53/Linear_least_squares_example2.png\" width=200 height=200 />\n"
   ]
  },
  {
   "cell_type": "code",
   "execution_count": 5,
   "metadata": {
    "id": "4MOpF4AWoYjB",
    "slideshow": {
     "slide_type": "fragment"
    }
   },
   "outputs": [],
   "source": [
    "def cost_function(x, y, w, b):\n",
    "    assert len(x) == len(y)\n",
    "    n = len(x)\n",
    "    total_error = 0.0\n",
    "    for i in range(n):\n",
    "        total_error += (y[i] - (w*x[i] + b))**2\n",
    "    return total_error / n"
   ]
  },
  {
   "cell_type": "markdown",
   "metadata": {
    "id": "k9FVp78xub0p",
    "slideshow": {
     "slide_type": "subslide"
    }
   },
   "source": [
    "We can visualize the cost function for different choices of w and b:"
   ]
  },
  {
   "cell_type": "code",
   "execution_count": 27,
   "metadata": {
    "colab": {
     "base_uri": "https://localhost:8080/",
     "height": 265
    },
    "executionInfo": {
     "elapsed": 20969,
     "status": "ok",
     "timestamp": 1608688408774,
     "user": {
      "displayName": "Benedict Paten",
      "photoUrl": "https://lh3.googleusercontent.com/a-/AOh14Gh2rYrrH6yoNnUp0Oj4p4ouybc6ZcWGyPmKFtIY=s64",
      "userId": "06399644931392855882"
     },
     "user_tz": 480
    },
    "id": "c52B3Jr1ujCH",
    "outputId": "1084d61f-f41b-45fd-9389-8aea0689258d",
    "slideshow": {
     "slide_type": "fragment"
    }
   },
   "outputs": [
    {
     "data": {
      "image/png": "[encoded data removed]",
      "text/plain": [
       "<Figure size 640x480 with 1 Axes>"
      ]
     },
     "metadata": {},
     "output_type": "display_data"
    }
   ],
   "source": [
    "%matplotlib inline  \n",
    "# The above is required to display matplotlib in jupyter\n",
    "import matplotlib.pyplot as plt\n",
    "\n",
    "x = df['mitoses']\n",
    "y = df['class']\n",
    "\n",
    "# Plot of cost as function of w\n",
    "#N's notes: w represents the weight, or the slope of the classification line\n",
    "plt.plot(np.arange(-0.1, 0.1, 0.01), [ cost_function(x, y, w, 1.0) for w in np.arange(-0.1, 0.1, 0.01)], 'bs')\n",
    "plt.show()"
   ]
  },
  {
   "cell_type": "code",
   "execution_count": 28,
   "metadata": {
    "colab": {
     "base_uri": "https://localhost:8080/",
     "height": 265
    },
    "executionInfo": {
     "elapsed": 21258,
     "status": "ok",
     "timestamp": 1608688409068,
     "user": {
      "displayName": "Benedict Paten",
      "photoUrl": "https://lh3.googleusercontent.com/a-/AOh14Gh2rYrrH6yoNnUp0Oj4p4ouybc6ZcWGyPmKFtIY=s64",
      "userId": "06399644931392855882"
     },
     "user_tz": 480
    },
    "id": "uWBVPJ6u0Dly",
    "outputId": "0b894185-fb8a-44fc-ef26-898a679646b7",
    "slideshow": {
     "slide_type": "subslide"
    }
   },
   "outputs": [
    {
     "data": {
      "image/png": "[encoded data removed]",
      "text/plain": [
       "<Figure size 640x480 with 1 Axes>"
      ]
     },
     "metadata": {},
     "output_type": "display_data"
    }
   ],
   "source": [
    "# Plot of cost as function of b\n",
    "#N's notes: b represents the intercept of the classification line\n",
    "plt.plot(np.arange(-1.0, 1., 0.1), [ cost_function(x, y, 1.0, b) for b in np.arange(-1.0, 1., 0.1)], 'bs')\n",
    "plt.show()\n"
   ]
  },
  {
   "cell_type": "code",
   "execution_count": 29,
   "metadata": {
    "colab": {
     "base_uri": "https://localhost:8080/",
     "height": 265
    },
    "executionInfo": {
     "elapsed": 24524,
     "status": "ok",
     "timestamp": 1608688412339,
     "user": {
      "displayName": "Benedict Paten",
      "photoUrl": "https://lh3.googleusercontent.com/a-/AOh14Gh2rYrrH6yoNnUp0Oj4p4ouybc6ZcWGyPmKFtIY=s64",
      "userId": "06399644931392855882"
     },
     "user_tz": 480
    },
    "id": "FpG_fX4HCfBG",
    "outputId": "61617236-de96-4720-99b6-a2a536008285",
    "slideshow": {
     "slide_type": "subslide"
    }
   },
   "outputs": [
    {
     "data": {
      "text/plain": [
       "<mpl_toolkits.mplot3d.art3d.Line3DCollection at 0x16a6dbdc0>"
      ]
     },
     "execution_count": 29,
     "metadata": {},
     "output_type": "execute_result"
    },
    {
     "data": {
      "image/png": "[encoded data removed]",
      "text/plain": [
       "<Figure size 640x480 with 1 Axes>"
      ]
     },
     "metadata": {},
     "output_type": "display_data"
    }
   ],
   "source": [
    "# 3d Plot of cost as function of w, b to see that they are not independent, but that the function is convex\n",
    "\n",
    "#not independent - \n",
    "#that is, the values of the variables depend on on another, since they must fall on the classification line \n",
    "\n",
    "#but the surface described by the function of w and b is concave down with a global minimum we want the model to learn\n",
    "\n",
    "\n",
    "from itertools import product\n",
    "from mpl_toolkits.mplot3d import Axes3D\n",
    "\n",
    "fig = plt.figure()\n",
    "ax = fig.add_subplot(111, projection='3d')\n",
    "\n",
    "W = np.arange(-1.0, 1, 0.1)\n",
    "B = np.arange(-1.0, 1., 0.1)\n",
    "\n",
    "Z = np.array([ [ cost_function(x, y, w, b) for w in W ] for b in B ])\n",
    "\n",
    "ax.plot_wireframe(W, B, Z)"
   ]
  },
  {
   "cell_type": "markdown",
   "metadata": {
    "id": "UhxWVCy5u5Ax",
    "slideshow": {
     "slide_type": "fragment"
    }
   },
   "source": [
    "Having defined a model and a cost function, the next thing to do is define a learning method which can find good parameters for the model.\n",
    "\n",
    "\"\"\"This is to say, how do we program the model to learn the best values of w and b that will minimize the cost function, giving us the best approximation of the classifer?\"\"\""
   ]
  },
  {
   "cell_type": "markdown",
   "metadata": {
    "id": "_WxUs4-oQhAI",
    "slideshow": {
     "slide_type": "subslide"
    }
   },
   "source": [
    "# Gradient descent\n",
    "Having defined a model and a cost function, the next thing to do is define a learning method which can find good parameters for the model.\n",
    "\n",
    "For the case of simple linear regression we could calculate the optimum parameters analytically, but here we choose to use gradient descent. Gradient descent is an iterative method that can be used to optimize a large class of problems, many of which can not be solved exactly.\n",
    "\n",
    "*Optimize meaning find the values at the function's global minimum.*\n",
    "\n",
    "In Gradient Descent the idea is to use the derivative (rate of change) of the cost function to iteratively search for the point where the parameters minimize the MSE: \n",
    "\n",
    "![alt text](https://miro.medium.com/max/1400/1*HrFZV7pKPcc5dzLaWvngtQ.png)\n",
    "\n",
    "(In the picture J(w) is the cost function and we traverse the cost function for the w parameter by iteratively moving toward the global minimum)"
   ]
  },
  {
   "cell_type": "markdown",
   "metadata": {
    "id": "dAiz6-q_oYjH",
    "slideshow": {
     "slide_type": "subslide"
    }
   },
   "source": [
    "There are two parameters (coefficients) in our cost function we can control: weight $w$ and bias $b$. Since we need to consider the impact each one has on the final prediction (seperately), we use partial derivatives.\n",
    "Recall the MSE cost function (here called $f$):\n",
    "\\begin{equation}\n",
    "f(w,b)= \\frac{1}{n} \\sum_{i=1}^{n} (y_i - (wx_i+b))^2\n",
    "\\end{equation}\n",
    "First lets find the partial derivative for $w$:\n",
    "\\begin{equation}\n",
    "\\frac{\\partial f}{\\partial w} = \\frac{1}{n} \\sum_{i=1}^n -2x_i(y_i - (wx_i+b))\n",
    "\\end{equation}\n",
    "And the partial derivative for $b$:\n",
    "\\begin{equation}\n",
    "\\frac{\\partial f}{\\partial b} = \\frac{1}{n} \\sum_{i=1}^n -2(y_i - (wx_i+b))\n",
    "\\end{equation}\n",
    "\n",
    "\n",
    "Suppose we have estimates of $w$ and $b$, the gradient descent method estimates  new estimates, $w'$ and $b'$, as follows:\n",
    "\n",
    "\\begin{equation}\n",
    "w' = w - l * \\frac{\\partial f}{\\partial w}\n",
    "\\end{equation}\n",
    "\n",
    "\"\"\"This is using the partial derivative to approximate the new w with b held constant.\"\"\"\n",
    "And the partial derivative for $b$:\n",
    "\\begin{equation}\n",
    "b' = b - l * \\frac{\\partial f}{\\partial b}\n",
    "\\end{equation}\n",
    "\"\"\"This is using the partial derivative to approximate the new b with w held constant.\"\"\"\n",
    "\n",
    "Where $l$ is the \"learning rate\" hyperparameter (a parameter of the learning algorithm) that dictates the speed at which the model learns. \n",
    "\n",
    "In Python:\n"
   ]
  },
  {
   "cell_type": "code",
   "execution_count": 30,
   "metadata": {
    "id": "3_2k86CNoYjJ",
    "slideshow": {
     "slide_type": "subslide"
    }
   },
   "outputs": [],
   "source": [
    "def update_weights(x, y, w, b, learning_rate):\n",
    "    weight_deriv = 0\n",
    "    bias_deriv = 0\n",
    "    n = len(x)\n",
    "\n",
    "    for i in range(n):\n",
    "        # Calculate partial derivatives\n",
    "        # -2x(y - (mx + b))\n",
    "        weight_deriv += -2*x[i] * (y[i] - (w*x[i] + b))\n",
    "\n",
    "        # -2(y - (mx + b))\n",
    "        bias_deriv += -2*(y[i] - (w*x[i] + b))\n",
    "\n",
    "    # We subtract because the derivatives point in direction of steepest ascent\n",
    "    w -= (weight_deriv / n) * learning_rate\n",
    "    b -= (bias_deriv / n) * learning_rate\n",
    "\n",
    "    return w, b"
   ]
  },
  {
   "cell_type": "markdown",
   "metadata": {
    "id": "Bwn7nYaRUn0g",
    "slideshow": {
     "slide_type": "fragment"
    }
   },
   "source": [
    "Note: making the learning rate too large will stop the model converging, because the size of the jumps between parameter estimates will hop around the optimal values.\n",
    "\n",
    "\"\"\"The model converging means it will finally reach the minimal value and stop changing. This is prevented if the jump size (l) is too large, as the minimal value will be skipped.\"\"\""
   ]
  },
  {
   "cell_type": "markdown",
   "metadata": {
    "id": "RwzhMxwBoYjM",
    "slideshow": {
     "slide_type": "subslide"
    }
   },
   "source": [
    "# Train loop\n",
    "\n",
    "We now have a simple model, cost function and associated learning algorithm. We can put these together to train the model iteratively.\n",
    "\n",
    "Here's the Python:\n"
   ]
  },
  {
   "cell_type": "code",
   "execution_count": 10,
   "metadata": {
    "id": "alByI-sroYjN",
    "slideshow": {
     "slide_type": "fragment"
    }
   },
   "outputs": [],
   "source": [
    "\"\"\"Epochs are the amount of iterations of learning we do.\n",
    "Each time the model learns a new w and b, which it uses to learn the next...and so on.\"\"\"\n",
    "def train_model(x, y, w, b, learning_rate, epochs):\n",
    "    cost_history = []\n",
    "\n",
    "    for i in range(epochs):\n",
    "        w,b = update_weights(x, y, w, b, learning_rate)\n",
    "\n",
    "        #Calculate cost for auditing purposes\n",
    "        \"\"\"Each time, we determine what the new cost is, to see how well our model is learning.\"\"\"\n",
    "        cost = cost_function(x, y, w, b)\n",
    "        cost_history.append(cost)\n",
    "\n",
    "        # Log Progress\n",
    "        if (i+1) % 20 == 0:\n",
    "            print(\"Epochs: \", str(i+1), \" cost: \",  str(cost))\n",
    "\n",
    "    return w, b, cost_history"
   ]
  },
  {
   "cell_type": "markdown",
   "metadata": {
    "id": "xVgISHsjoYjQ",
    "slideshow": {
     "slide_type": "subslide"
    }
   },
   "source": [
    "# Putting it together: Run the training\n",
    "\n",
    "Let's test this all out:\n"
   ]
  },
  {
   "cell_type": "code",
   "execution_count": 11,
   "metadata": {
    "colab": {
     "base_uri": "https://localhost:8080/"
    },
    "executionInfo": {
     "elapsed": 38029,
     "status": "ok",
     "timestamp": 1608688425852,
     "user": {
      "displayName": "Benedict Paten",
      "photoUrl": "https://lh3.googleusercontent.com/a-/AOh14Gh2rYrrH6yoNnUp0Oj4p4ouybc6ZcWGyPmKFtIY=s64",
      "userId": "06399644931392855882"
     },
     "user_tz": 480
    },
    "id": "qZQG4McRoYjR",
    "outputId": "2011b872-9397-47c3-dce0-d128e2ef06ac",
    "slideshow": {
     "slide_type": "fragment"
    }
   },
   "outputs": [
    {
     "name": "stdout",
     "output_type": "stream",
     "text": [
      "Epochs:  20  cost:  0.19582583299939413\n",
      "Epochs:  40  cost:  0.1867978873591422\n",
      "Epochs:  60  cost:  0.18466177016943972\n",
      "Epochs:  80  cost:  0.1841230679016011\n",
      "Epochs:  100  cost:  0.1839870354027025\n",
      "Epochs:  120  cost:  0.1839526837288844\n",
      "Epochs:  140  cost:  0.1839440090510117\n",
      "Epochs:  160  cost:  0.18394181847254346\n",
      "Epochs:  180  cost:  0.18394126529534374\n",
      "Epochs:  200  cost:  0.1839411256039201\n",
      "Epochs:  220  cost:  0.18394109032826159\n",
      "Epochs:  240  cost:  0.18394108142024854\n",
      "Epochs:  260  cost:  0.18394107917074623\n",
      "Epochs:  280  cost:  0.1839410786026949\n",
      "Epochs:  300  cost:  0.1839410784592456\n",
      "Epochs:  320  cost:  0.1839410784230206\n",
      "Epochs:  340  cost:  0.1839410784138691\n",
      "Epochs:  360  cost:  0.18394107841156318\n",
      "Epochs:  380  cost:  0.1839410784109797\n",
      "Epochs:  400  cost:  0.18394107841082927\n",
      "Epochs:  420  cost:  0.18394107841079602\n",
      "Epochs:  440  cost:  0.18394107841078738\n",
      "Epochs:  460  cost:  0.1839410784107846\n",
      "Epochs:  480  cost:  0.1839410784107802\n",
      "Epochs:  500  cost:  0.18394107841078308\n",
      "0.12655901364221583 0.2727174651443043\n"
     ]
    }
   ],
   "source": [
    "x = df['mitoses']\n",
    "y = df['class']\n",
    "w, b, cost_history = train_model(x, y, 0, 0, 0.02, 500)\n",
    "print(w, b)"
   ]
  },
  {
   "cell_type": "markdown",
   "metadata": {
    "id": "0ie85oA6VgBT",
    "slideshow": {
     "slide_type": "fragment"
    }
   },
   "source": [
    "We can see that the model converges towards better parameters! \n",
    "\n",
    "How do we judge how useful the model is in practice? \n",
    "\n",
    "This is to say, how well does this model actually predict new data points? "
   ]
  },
  {
   "cell_type": "markdown",
   "metadata": {
    "id": "vk2_ci2-oYjW",
    "slideshow": {
     "slide_type": "subslide"
    }
   },
   "source": [
    "# Predictive separation index (PSI) as score\n",
    "We can use Predictive Separation Index (PSI), to use as the strength of a predictor. The equation is:\n",
    "\n",
    "\\begin{equation}\n",
    "PSI ( x ) = [ \\textrm{mean }  y'_i  \\textrm{ when } y_i = 1 ] - [ \\textrm{mean }  y'_i  \\textrm{ when } y_i = 0 ] \\, .\n",
    "\\end{equation}\n",
    "\n",
    "\n",
    "We want PSI(x) to be very close to 1 as the first term should be close to 1 and the second term should be close to 0.\n",
    "\n",
    "**Note that in the case of the above example yi = 1 is really yi = 4, and yi = 0 is really yi = 2**\n",
    "\n",
    "In other words, we are figuring out the error rate of the predictor. We do this by seeing how many times it predicts the true value/all instances of that true value vs. the true value/all instances of the other true value, and subtracting them. A high index means that the total number of correct predictions is high, whereas a low or negative one means the opposite.  \n",
    "\n",
    "In Python:"
   ]
  },
  {
   "cell_type": "code",
   "execution_count": 31,
   "metadata": {
    "id": "9IjvSGBFoYjX",
    "slideshow": {
     "slide_type": "fragment"
    }
   },
   "outputs": [],
   "source": [
    "def get_score(x, y, w, b):\n",
    "    preds_0 = []  # The examples where the truth is 0\n",
    "    preds_1 = []  # Examples where the truth is 1\n",
    "    for i in range(len(x)): # For each training example\n",
    "        p = predict(x[i], w, b)\n",
    "        if y[i] == 0:\n",
    "            preds_0.append(p)\n",
    "        else:\n",
    "            preds_1.append(p)\n",
    "    if len(preds_0) != 0:\n",
    "        score = (sum(preds_1) / len(preds_1) - sum(preds_0) / len(preds_0))\n",
    "    else:\n",
    "        score = (sum(preds_1) /  len(preds_1) - 0)\n",
    "    return preds_0, preds_1, score"
   ]
  },
  {
   "cell_type": "code",
   "execution_count": 13,
   "metadata": {
    "colab": {
     "base_uri": "https://localhost:8080/"
    },
    "executionInfo": {
     "elapsed": 38024,
     "status": "ok",
     "timestamp": 1608688425853,
     "user": {
      "displayName": "Benedict Paten",
      "photoUrl": "https://lh3.googleusercontent.com/a-/AOh14Gh2rYrrH6yoNnUp0Oj4p4ouybc6ZcWGyPmKFtIY=s64",
      "userId": "06399644931392855882"
     },
     "user_tz": 480
    },
    "id": "ab34suKCoYja",
    "outputId": "f9d71e1c-034f-412a-ae34-bdcf20224590",
    "slideshow": {
     "slide_type": "fragment"
    }
   },
   "outputs": [
    {
     "name": "stdout",
     "output_type": "stream",
     "text": [
      "PSI:  0.1857635169799795\n"
     ]
    }
   ],
   "source": [
    "preds_0, preds_1, score = get_score(x, y, w, b)\n",
    "print(\"PSI: \", score)"
   ]
  },
  {
   "cell_type": "markdown",
   "metadata": {
    "id": "1gmAU5KNoYjd",
    "slideshow": {
     "slide_type": "subslide"
    }
   },
   "source": [
    "# The prediction distribution plot\n",
    "\n",
    "A better way to look at our prediction is to look at the distribution of $y'_i$ we get for each of the classes. For $y_i = 0$ the $y'_i$ should be 0. Conversely,  $y'_i$ should be close to 1 when $y_i = 1$. This is a more informative way of seeing the strength of a predictor.\n",
    "\n",
    "Self-explanatory."
   ]
  },
  {
   "cell_type": "code",
   "execution_count": 14,
   "metadata": {
    "colab": {
     "base_uri": "https://localhost:8080/",
     "height": 281
    },
    "executionInfo": {
     "elapsed": 580,
     "status": "ok",
     "timestamp": 1608688459640,
     "user": {
      "displayName": "Benedict Paten",
      "photoUrl": "https://lh3.googleusercontent.com/a-/AOh14Gh2rYrrH6yoNnUp0Oj4p4ouybc6ZcWGyPmKFtIY=s64",
      "userId": "06399644931392855882"
     },
     "user_tz": 480
    },
    "id": "fD9BbhyYoYje",
    "outputId": "1955af0a-c611-4fed-dddc-65d5a9f36688",
    "slideshow": {
     "slide_type": "fragment"
    }
   },
   "outputs": [
    {
     "data": {
      "image/png": "[encoded data removed]",
      "text/plain": [
       "<Figure size 640x480 with 1 Axes>"
      ]
     },
     "metadata": {},
     "output_type": "display_data"
    }
   ],
   "source": [
    "%matplotlib inline  \n",
    "# The above is required to display matplotlib in jupyter\n",
    "import matplotlib.pyplot as plt\n",
    "\n",
    "\n",
    "n, bins, patches = plt.hist(preds_0, bins=100, density=1, cumulative=0)\n",
    "plt.title('Predictive distribution for class y=0')\n",
    "plt.show()"
   ]
  },
  {
   "cell_type": "code",
   "execution_count": 15,
   "metadata": {
    "colab": {
     "base_uri": "https://localhost:8080/",
     "height": 281
    },
    "executionInfo": {
     "elapsed": 535,
     "status": "ok",
     "timestamp": 1608688468593,
     "user": {
      "displayName": "Benedict Paten",
      "photoUrl": "https://lh3.googleusercontent.com/a-/AOh14Gh2rYrrH6yoNnUp0Oj4p4ouybc6ZcWGyPmKFtIY=s64",
      "userId": "06399644931392855882"
     },
     "user_tz": 480
    },
    "id": "izTVGYs3TKlE",
    "outputId": "79207bb0-9c64-49e3-f2e3-63dafe76024d",
    "slideshow": {
     "slide_type": "subslide"
    }
   },
   "outputs": [
    {
     "data": {
      "image/png": "[encoded data removed]",
      "text/plain": [
       "<Figure size 640x480 with 1 Axes>"
      ]
     },
     "metadata": {},
     "output_type": "display_data"
    }
   ],
   "source": [
    "n, bins, patches = plt.hist(preds_1, bins=100, density=1, cumulative=0)\n",
    "plt.title('Predictive distribution for class y=1')\n",
    "plt.show()"
   ]
  },
  {
   "cell_type": "markdown",
   "metadata": {
    "id": "Dbs3XLgQoYjh",
    "slideshow": {
     "slide_type": "subslide"
    }
   },
   "source": [
    "## Use a library to do the same thing! - SKLEARN\n",
    "If we use sklearn to do the same thing, we will get the same exact values! \n",
    "\n"
   ]
  },
  {
   "cell_type": "code",
   "execution_count": 32,
   "metadata": {
    "colab": {
     "base_uri": "https://localhost:8080/"
    },
    "executionInfo": {
     "elapsed": 404,
     "status": "ok",
     "timestamp": 1608688478140,
     "user": {
      "displayName": "Benedict Paten",
      "photoUrl": "https://lh3.googleusercontent.com/a-/AOh14Gh2rYrrH6yoNnUp0Oj4p4ouybc6ZcWGyPmKFtIY=s64",
      "userId": "06399644931392855882"
     },
     "user_tz": 480
    },
    "id": "HaCXojqDoYji",
    "outputId": "085ad91d-132d-4ff8-d059-dc4ab9c9c80a",
    "slideshow": {
     "slide_type": "fragment"
    }
   },
   "outputs": [
    {
     "name": "stdout",
     "output_type": "stream",
     "text": [
      "sklearn, w, b, score:  0.126559 0.272717 0.185764\n",
      "manualr, w, b, score:  0.126559 0.272717 0.185764\n"
     ]
    }
   ],
   "source": [
    "x = df[['mitoses']]\n",
    "y = df['class']\n",
    "from sklearn import datasets, linear_model\n",
    "lm_model = linear_model.LinearRegression(fit_intercept=True, copy_X=True, n_jobs=1)\n",
    "lm_model.fit(x, y)\n",
    "print(\"sklearn, w, b, score: \", round(lm_model.coef_[0], 6), round(lm_model.intercept_, 6), round(lm_model.score(x,y), 6))\n",
    "print(\"manualr, w, b, score: \", round(w, 6) , round(b, 6), round(score, 6))\n",
    "# So, we have learned the same co-efficents (or, almost the same) through a library."
   ]
  },
  {
   "cell_type": "markdown",
   "metadata": {
    "id": "sxcBqqNIXX3e",
    "slideshow": {
     "slide_type": "subslide"
    }
   },
   "source": [
    "# The Coefficient of Determination (R squared):\n",
    "\n",
    "Note that lm_model.score(x,y) is the coefficient of determination, $R^2$, of the prediction. <br/>\n",
    "    \n",
    "R squared measures the proportion of overall variation of y variable that have been explained by the prediction. The equation for R squared is:\n",
    " \\begin{align*}\n",
    " R^2 = 1 - \\frac{\\sum_{i=1}^n (y_i-{y'_i})^2}{\\sum_{i=1}^n (y_i-\\bar{y})^2}\n",
    " \\end{align*}\n",
    " Here, $y_i$ is the label, $y'_i$ is the prediction and $\\bar{y}$ is the average label. The error is normalized by the deviance.  \n",
    " \n",
    " For a binary classification (like here) the $R^2$ is the same as the predictive separation index, but for continuous outcomes it will be different.\n",
    " \n",
    " Basically, it says how much of the dependent variable is actually explained by the independent variable \n",
    " (via the seperator). It is just PSI for binary classifiers, but extending the PSI idea to continuous variables comes from here. "
   ]
  },
  {
   "cell_type": "markdown",
   "metadata": {
    "id": "vD4fKz4NoYjl",
    "slideshow": {
     "slide_type": "subslide"
    }
   },
   "source": [
    "# Variable selection\n",
    "Now loop through each of the feature/variable present in the dataset (except id and class) and fit the model to get a score. Sort features based on their score/R-squared-value the top variables are best predictors. <br/>\n"
   ]
  },
  {
   "cell_type": "code",
   "execution_count": 34,
   "metadata": {
    "colab": {
     "base_uri": "https://localhost:8080/"
    },
    "executionInfo": {
     "elapsed": 606,
     "status": "ok",
     "timestamp": 1608688478347,
     "user": {
      "displayName": "Benedict Paten",
      "photoUrl": "https://lh3.googleusercontent.com/a-/AOh14Gh2rYrrH6yoNnUp0Oj4p4ouybc6ZcWGyPmKFtIY=s64",
      "userId": "06399644931392855882"
     },
     "user_tz": 480
    },
    "id": "PPeBfpg3oYjl",
    "outputId": "593c5cb6-a3a9-4931-e82f-5d57adf1d360",
    "slideshow": {
     "slide_type": "fragment"
    }
   },
   "outputs": [
    {
     "name": "stdout",
     "output_type": "stream",
     "text": [
      "['uniformity-of-cell-shape', 0.6706524695612857]\n",
      "['uniformity-of-cell-size', 0.6689665202300585]\n",
      "['bland-chromatin', 0.5724679929612666]\n",
      "['clump-thickness', 0.5126579505482682]\n",
      "['normal-nucleoli', 0.5072909771154664]\n",
      "['marginal-adhesion', 0.4855305274798587]\n",
      "['single-epithelial-cell-size', 0.4661947145355013]\n",
      "['mitoses', 0.18576351399204383]\n",
      "['bare-nuclei', 0.15365305810688346]\n"
     ]
    }
   ],
   "source": [
    "features = list(df.keys())\n",
    "features.remove('id')\n",
    "features.remove('class')\n",
    "\n",
    "feature_scores = []\n",
    "\n",
    "for feature in features:\n",
    "    x = df[[feature]]\n",
    "    y = df['class']\n",
    "    lm_model = linear_model.LinearRegression(fit_intercept=True, copy_X=True, n_jobs=1)\n",
    "    lm_model.fit(x, y)\n",
    "    feature_scores.append([feature, lm_model.score(x,y)])\n",
    "\n",
    "feature_scores.sort(key=lambda x: x[1], reverse=True)\n",
    "for feature_score in feature_scores:\n",
    "    print(feature_score)"
   ]
  },
  {
   "cell_type": "markdown",
   "metadata": {
    "id": "1jPaGmdOi8PN",
    "slideshow": {
     "slide_type": "subslide"
    }
   },
   "source": [
    "# Linear Regression w/Multiple Variable\n",
    "\n",
    "Suppose we'd like to use information from multiple features simultaneously to make the prediction? This is a natural extension of single-variable linear regression.\n",
    "\n",
    "We now suppose we have a set of tuples:\n",
    "\n",
    "\\begin{equation}\n",
    "(x_{11}, x_{12}, x_{13}, \\ldots, x_{1p}, y_1), (x_{21}, x_{22}, x_{23}, \\ldots, x_{2p}, y_2), \\ldots, (x_{n1}, x_{n2}, x_{n3}, \\ldots, x_{np}, y_n)\n",
    "\\end{equation}\n",
    "\n",
    "The task is to try to predict $y_i$ given $x_{i1}, x_{i2}, x_{i3}, \\ldots, x_{ip}$. We can naturally extend linear reagression to this multi variable case:\n",
    "\n",
    "\\begin{equation}\n",
    "y'_i = w_1*x_{i1}+w_2*x_{i2}+w_3*x_{i3}+\\ldots+w_p*x_{ip}+b\n",
    "\\end{equation}\n",
    "\n",
    "It is simple enough to extend the earlier learning paradigm to this case. Thankfully we don't have to code it, because SKLEARN already covers this case.  \n",
    "\n",
    "For example, in the following we pick the top two predictors and fit the model. The score will be better this time."
   ]
  },
  {
   "cell_type": "code",
   "execution_count": 35,
   "metadata": {
    "colab": {
     "base_uri": "https://localhost:8080/"
    },
    "executionInfo": {
     "elapsed": 603,
     "status": "ok",
     "timestamp": 1608688478347,
     "user": {
      "displayName": "Benedict Paten",
      "photoUrl": "https://lh3.googleusercontent.com/a-/AOh14Gh2rYrrH6yoNnUp0Oj4p4ouybc6ZcWGyPmKFtIY=s64",
      "userId": "06399644931392855882"
     },
     "user_tz": 480
    },
    "id": "f3-bQO5doYjt",
    "outputId": "e731c88e-f675-4ece-f56f-3c85013d9711",
    "slideshow": {
     "slide_type": "fragment"
    }
   },
   "outputs": [
    {
     "name": "stdout",
     "output_type": "stream",
     "text": [
      "Score:  0.7025234823743545\n"
     ]
    }
   ],
   "source": [
    "x = df[['uniformity-of-cell-shape','uniformity-of-cell-size']]\n",
    "y = df['class']\n",
    "lm_model = linear_model.LinearRegression(fit_intercept=True, copy_X=True, n_jobs=1)\n",
    "lm_model.fit(x, y)\n",
    "print(\"Score: \", lm_model.score(x,y))"
   ]
  },
  {
   "cell_type": "markdown",
   "metadata": {
    "id": "DIHc2rChoYjw",
    "slideshow": {
     "slide_type": "subslide"
    }
   },
   "source": [
    "# From Regression to Classification\n",
    "\n",
    "We have created a \"regression model\", which predicts a continuous value. However, what we actually want for this task is a classifier - a model which predicts either \"true\" (malignant) or \"benign\" (false). We can make a classifier from our regression model in the simplest way possible: by picking a threshold.\n",
    "\n",
    "\n",
    "Now look at the distribution again and pick a cutoff. Everything below the cutoff will be 0 and above will be 1. "
   ]
  },
  {
   "cell_type": "code",
   "execution_count": 36,
   "metadata": {
    "colab": {
     "base_uri": "https://localhost:8080/",
     "height": 513
    },
    "executionInfo": {
     "elapsed": 1195,
     "status": "ok",
     "timestamp": 1608688478941,
     "user": {
      "displayName": "Benedict Paten",
      "photoUrl": "https://lh3.googleusercontent.com/a-/AOh14Gh2rYrrH6yoNnUp0Oj4p4ouybc6ZcWGyPmKFtIY=s64",
      "userId": "06399644931392855882"
     },
     "user_tz": 480
    },
    "id": "fcYH2LFcoYjx",
    "outputId": "870c815a-b7c2-437f-9470-9a4c0e129766",
    "scrolled": false,
    "slideshow": {
     "slide_type": "fragment"
    }
   },
   "outputs": [
    {
     "data": {
      "image/png": "[encoded data removed]",
      "text/plain": [
       "<Figure size 640x480 with 1 Axes>"
      ]
     },
     "metadata": {},
     "output_type": "display_data"
    },
    {
     "data": {
      "image/png": "[encoded data removed]",
      "text/plain": [
       "<Figure size 640x480 with 1 Axes>"
      ]
     },
     "metadata": {},
     "output_type": "display_data"
    }
   ],
   "source": [
    "input_0 = df.loc[df['class'] == 0]\n",
    "y_0 = input_0['class']\n",
    "x_0 = input_0[['uniformity-of-cell-shape','uniformity-of-cell-size']]\n",
    "\n",
    "input_1 = df.loc[df['class'] == 1]\n",
    "y_1 = input_1['class']\n",
    "x_1 = input_1[['uniformity-of-cell-shape','uniformity-of-cell-size']]\n",
    "preds_0 = lm_model.predict(x_0)\n",
    "preds_1 = lm_model.predict(x_1)\n",
    "n, bins, patches = plt.hist(preds_0, bins=50, density=1, cumulative=0)\n",
    "plt.show()\n",
    "n, bins, patches = plt.hist(preds_1, bins=50, density=1, cumulative=0)\n",
    "plt.show()"
   ]
  },
  {
   "cell_type": "markdown",
   "metadata": {
    "id": "xNGaTWmCoYj0",
    "slideshow": {
     "slide_type": "subslide"
    }
   },
   "source": [
    "# Accuracy\n",
    "\n",
    "From the above plots it looks like 0.2 is a good cutoff? Let's pick that and look at the accuracy of the model, i.e. how accurate is the model when we say y'_i > 0.2 is \"true\" but otherwise \"false\":\n"
   ]
  },
  {
   "cell_type": "code",
   "execution_count": 37,
   "metadata": {
    "colab": {
     "base_uri": "https://localhost:8080/"
    },
    "executionInfo": {
     "elapsed": 1194,
     "status": "ok",
     "timestamp": 1608688478942,
     "user": {
      "displayName": "Benedict Paten",
      "photoUrl": "https://lh3.googleusercontent.com/a-/AOh14Gh2rYrrH6yoNnUp0Oj4p4ouybc6ZcWGyPmKFtIY=s64",
      "userId": "06399644931392855882"
     },
     "user_tz": 480
    },
    "id": "tYmKKmP5oYj0",
    "outputId": "c7c83943-c50c-4f43-d0a2-bb8a1fccc7a8",
    "slideshow": {
     "slide_type": "fragment"
    }
   },
   "outputs": [
    {
     "data": {
      "text/plain": [
       "0.9313304721030042"
      ]
     },
     "execution_count": 37,
     "metadata": {},
     "output_type": "execute_result"
    }
   ],
   "source": [
    "y_pred = lm_model.predict(x)\n",
    "y_pred = [1 if p > 0.2 else 0 for p in y_pred] # Binarizing the predictions using\n",
    "# a cutoff of 0.2\n",
    "from sklearn.metrics import accuracy_score\n",
    "accuracy_score(y, y_pred)"
   ]
  },
  {
   "cell_type": "markdown",
   "metadata": {
    "id": "sCx2rSIFJNks",
    "slideshow": {
     "slide_type": "fragment"
    }
   },
   "source": [
    "Accuracy here is defined as the Jaccard similarity coefficient score - which is here equivalent to the fraction of predictions that are correct.\n"
   ]
  },
  {
   "cell_type": "markdown",
   "metadata": {
    "id": "1D9wTt7GoYj6",
    "slideshow": {
     "slide_type": "subslide"
    }
   },
   "source": [
    "## Splitting the dataset\n",
    "But we can't trust these results! We trained and tested on the same data. This may overfit the data and give us an illusion of better fit. Let's split the dataset in 80-20 for training-testing and fit and test the model again."
   ]
  },
  {
   "cell_type": "code",
   "execution_count": 38,
   "metadata": {
    "id": "shlt_bZWoYj6",
    "slideshow": {
     "slide_type": "fragment"
    }
   },
   "outputs": [],
   "source": [
    "# split into train and test data\n",
    "from sklearn.model_selection import train_test_split\n",
    "\n",
    "(train,test) = train_test_split(df, test_size=0.2)\n",
    "train_output = train['class']\n",
    "train_input = train[['uniformity-of-cell-shape','uniformity-of-cell-size']]\n",
    "\n",
    "test_output = test['class']\n",
    "test_input = test[['uniformity-of-cell-shape','uniformity-of-cell-size']]"
   ]
  },
  {
   "cell_type": "code",
   "execution_count": 1,
   "metadata": {
    "colab": {
     "base_uri": "https://localhost:8080/"
    },
    "executionInfo": {
     "elapsed": 1189,
     "status": "ok",
     "timestamp": 1608688478943,
     "user": {
      "displayName": "Benedict Paten",
      "photoUrl": "https://lh3.googleusercontent.com/a-/AOh14Gh2rYrrH6yoNnUp0Oj4p4ouybc6ZcWGyPmKFtIY=s64",
      "userId": "06399644931392855882"
     },
     "user_tz": 480
    },
    "id": "qmIAB_VAoYj9",
    "outputId": "cdc136c5-173a-4d8e-8f69-d7a53e8ed87d",
    "slideshow": {
     "slide_type": "fragment"
    }
   },
   "outputs": [
    {
     "ename": "NameError",
     "evalue": "name 'lm_model' is not defined",
     "output_type": "error",
     "traceback": [
      "\u001b[0;31m---------------------------------------------------------------------------\u001b[0m",
      "\u001b[0;31mNameError\u001b[0m                                 Traceback (most recent call last)",
      "Cell \u001b[0;32mIn[1], line 1\u001b[0m\n\u001b[0;32m----> 1\u001b[0m lm_model\u001b[38;5;241m.\u001b[39mfit(train_input, train_output)\n\u001b[1;32m      2\u001b[0m \u001b[38;5;28mprint\u001b[39m(\u001b[38;5;124m\"\u001b[39m\u001b[38;5;124mScore: \u001b[39m\u001b[38;5;124m\"\u001b[39m, lm_model\u001b[38;5;241m.\u001b[39mscore(train_input, train_output))\n",
      "\u001b[0;31mNameError\u001b[0m: name 'lm_model' is not defined"
     ]
    }
   ],
   "source": [
    "lm_model.fit(train_input, train_output)\n",
    "print(\"Score: \", lm_model.score(train_input, train_output))"
   ]
  },
  {
   "cell_type": "code",
   "execution_count": 23,
   "metadata": {
    "colab": {
     "base_uri": "https://localhost:8080/",
     "height": 513
    },
    "executionInfo": {
     "elapsed": 707,
     "status": "ok",
     "timestamp": 1608688491039,
     "user": {
      "displayName": "Benedict Paten",
      "photoUrl": "https://lh3.googleusercontent.com/a-/AOh14Gh2rYrrH6yoNnUp0Oj4p4ouybc6ZcWGyPmKFtIY=s64",
      "userId": "06399644931392855882"
     },
     "user_tz": 480
    },
    "id": "qAzVZ6sLoYj_",
    "outputId": "22506ef6-1a1c-4655-f5bf-4c4aae267491",
    "slideshow": {
     "slide_type": "subslide"
    }
   },
   "outputs": [
    {
     "data": {
      "image/png": "[encoded data removed]",
      "text/plain": [
       "<Figure size 640x480 with 1 Axes>"
      ]
     },
     "metadata": {},
     "output_type": "display_data"
    },
    {
     "data": {
      "image/png": "[encoded data removed]",
      "text/plain": [
       "<Figure size 640x480 with 1 Axes>"
      ]
     },
     "metadata": {},
     "output_type": "display_data"
    }
   ],
   "source": [
    "input_0 = train.loc[train['class'] == 0]\n",
    "y_0 = input_0['class']\n",
    "x_0 = input_0[['uniformity-of-cell-shape','uniformity-of-cell-size']]\n",
    "\n",
    "input_1 = train.loc[train['class'] == 1]\n",
    "y_1 = input_1['class']\n",
    "x_1 = input_1[['uniformity-of-cell-shape','uniformity-of-cell-size']]\n",
    "preds_0 = lm_model.predict(x_0)\n",
    "preds_1 = lm_model.predict(x_1)\n",
    "n, bins, patches = plt.hist(preds_0, bins=50, density=1, cumulative=0)\n",
    "plt.show()\n",
    "n, bins, patches = plt.hist(preds_1, bins=50, density=1, cumulative=0)\n",
    "plt.show()"
   ]
  },
  {
   "cell_type": "code",
   "execution_count": 40,
   "metadata": {
    "colab": {
     "base_uri": "https://localhost:8080/"
    },
    "executionInfo": {
     "elapsed": 392,
     "status": "ok",
     "timestamp": 1608688497979,
     "user": {
      "displayName": "Benedict Paten",
      "photoUrl": "https://lh3.googleusercontent.com/a-/AOh14Gh2rYrrH6yoNnUp0Oj4p4ouybc6ZcWGyPmKFtIY=s64",
      "userId": "06399644931392855882"
     },
     "user_tz": 480
    },
    "id": "dbJdpHPeoYkB",
    "outputId": "cae505a8-7b8c-4abb-a344-01b770a6f0d2",
    "slideshow": {
     "slide_type": "subslide"
    }
   },
   "outputs": [
    {
     "data": {
      "text/plain": [
       "0.9285714285714286"
      ]
     },
     "execution_count": 40,
     "metadata": {},
     "output_type": "execute_result"
    }
   ],
   "source": [
    "y_pred = lm_model.predict(test_input)\n",
    "y_pred = [1 if p > 0.5 else 0 for p in y_pred]\n",
    "from sklearn.metrics import accuracy_score\n",
    "accuracy_score(test_output, y_pred)"
   ]
  },
  {
   "cell_type": "markdown",
   "metadata": {
    "id": "14hBiLDJoYkE",
    "slideshow": {
     "slide_type": "subslide"
    }
   },
   "source": [
    "# Decomposing accuracy\n",
    "We see that we are getting decent accuracy. But accuracy in a model doesn't necessarily mean the model is useful for our purposes. There are many other statistics that can help us understand the effectiveness of a model. Sensitivity, specificity are widely used. We are going to look at false positive rate and false negative rates."
   ]
  },
  {
   "cell_type": "code",
   "execution_count": 43,
   "metadata": {
    "colab": {
     "base_uri": "https://localhost:8080/"
    },
    "executionInfo": {
     "elapsed": 373,
     "status": "ok",
     "timestamp": 1608688500097,
     "user": {
      "displayName": "Benedict Paten",
      "photoUrl": "https://lh3.googleusercontent.com/a-/AOh14Gh2rYrrH6yoNnUp0Oj4p4ouybc6ZcWGyPmKFtIY=s64",
      "userId": "06399644931392855882"
     },
     "user_tz": 480
    },
    "id": "gHZ3HfQBoYkE",
    "outputId": "5e1e7162-3084-4a7f-f417-9e07ba5a9bc1",
    "slideshow": {
     "slide_type": "fragment"
    }
   },
   "outputs": [
    {
     "name": "stdout",
     "output_type": "stream",
     "text": [
      "[[81  1]\n",
      " [ 9 49]]\n",
      "False positive rate: (predicting malignant while benign) 0.012195121951219513\n",
      "False negative rate: (predicting benign while malignant) 0.15517241379310345\n"
     ]
    }
   ],
   "source": [
    "from sklearn.metrics import confusion_matrix\n",
    "print(confusion_matrix(test_output, y_pred))\n",
    "tn, fp, fn, tp = confusion_matrix(test_output, y_pred).ravel()\n",
    "fpr = fp * 1.0 / (fp+tn) # Fraction of true negative cases with a positive prediction\n",
    "fnr = fn * 1.0 / (tp+fn) # Fraction of true positive cases with a negative prediction\n",
    "print(\"False positive rate: (predicting malignant while benign)\", fpr)\n",
    "print(\"False negative rate: (predicting benign while malignant)\", fnr)"
   ]
  },
  {
   "cell_type": "markdown",
   "metadata": {
    "id": "9RloA8ERoYkI",
    "slideshow": {
     "slide_type": "subslide"
    }
   },
   "source": [
    "## Which case is the worst?\n",
    "Think about this model in action. It has a low false positive rate but a high false negative rate. False negative results in real world are very dangerous in our case. On the other hand, false positive results will cause a lot of chaos. But, if we have to make a decision, which is the best one? It depends, but if we change out cut-off we can change the trade-off between FPR and FNR."
   ]
  },
  {
   "cell_type": "code",
   "execution_count": 44,
   "metadata": {
    "colab": {
     "base_uri": "https://localhost:8080/"
    },
    "executionInfo": {
     "elapsed": 373,
     "status": "ok",
     "timestamp": 1608688502100,
     "user": {
      "displayName": "Benedict Paten",
      "photoUrl": "https://lh3.googleusercontent.com/a-/AOh14Gh2rYrrH6yoNnUp0Oj4p4ouybc6ZcWGyPmKFtIY=s64",
      "userId": "06399644931392855882"
     },
     "user_tz": 480
    },
    "id": "cDX9qjz2oYkK",
    "outputId": "10e2a2a9-b977-45df-bc6d-3bc23c9730fd",
    "slideshow": {
     "slide_type": "fragment"
    }
   },
   "outputs": [
    {
     "name": "stdout",
     "output_type": "stream",
     "text": [
      "Accuracy 0.8214285714285714\n",
      "[[57 25]\n",
      " [ 0 58]]\n",
      "False positive rate: (predicting malignant while benign) 0.3048780487804878\n",
      "False negative rate: (predicting benign while malignant) 0.0\n"
     ]
    }
   ],
   "source": [
    "y_pred = lm_model.predict(test_input)\n",
    "y_pred = [1 if p > 0.1 else 0 for p in y_pred]\n",
    "\n",
    "print(\"Accuracy\", accuracy_score(test_output, y_pred))\n",
    "\n",
    "print(confusion_matrix(test_output, y_pred))\n",
    "tn, fp, fn, tp = confusion_matrix(test_output, y_pred).ravel()\n",
    "fpr = fp * 1.0 / (fp+tn) # Fraction of true negative cases with a positive prediction\n",
    "fnr = fn * 1.0 / (tp+fn) # Fraction of true positive cases with a negative prediction\n",
    "print(\"False positive rate: (predicting malignant while benign)\", fpr)\n",
    "print(\"False negative rate: (predicting benign while malignant)\", fnr)"
   ]
  },
  {
   "cell_type": "markdown",
   "metadata": {
    "id": "dmAL9iwSOLTo",
    "slideshow": {
     "slide_type": "subslide"
    }
   },
   "source": [
    "## Homework\n",
    "\n",
    "* Browse through the SciKit Learn tutorial here: https://scikit-learn.org/stable/tutorial/basic/tutorial.html#learning-and-predicting\n",
    "\n",
    "* Now let's generalize what we've learned to discover a new classification method. This is part 1 of the first homework:\n",
    "\n",
    "http://bit.ly/3pgN34P"
   ]
  }
 ],
 "metadata": {
  "celltoolbar": "Slideshow",
  "colab": {
   "collapsed_sections": [],
   "name": "BME230 - Linear Regression.ipynb",
   "provenance": [
    {
     "file_id": "https://github.com/jvivian/BME-230B/blob/master/Linear%20Regression%20-%20One%20variable.ipynb",
     "timestamp": 1548864474803
    }
   ]
  },
  "kernelspec": {
   "display_name": "Python 3 (ipykernel)",
   "language": "python",
   "name": "python3"
  },
  "language_info": {
   "codemirror_mode": {
    "name": "ipython",
    "version": 3
   },
   "file_extension": ".py",
   "mimetype": "text/x-python",
   "name": "python",
   "nbconvert_exporter": "python",
   "pygments_lexer": "ipython3",
   "version": "3.11.5"
  }
 },
 "nbformat": 4,
 "nbformat_minor": 1
}
