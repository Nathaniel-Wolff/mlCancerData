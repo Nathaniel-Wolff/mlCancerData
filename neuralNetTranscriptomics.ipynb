{
  "cells": [
    {
      "cell_type": "markdown",
      "metadata": {
        "id": "Q_Ma2HpvQc51"
      },
      "source": [
        "# Classifying cancer expression vectors"
      ]
    },
    {
      "cell_type": "markdown",
      "metadata": {
        "id": "CW0BIgD8Qc55"
      },
      "source": [
        "In this assignment you will train a neural network to identify the tissue type that produced an RNA expression vector. The dataset is comprised of RNA-seq data obtained from tumors.\n",
        "\n",
        "For a complete description of the data collection workflow see this page:\n",
        "https://xenabrowser.net/datapages/?host=https://toil.xenahubs.net\n",
        "\n",
        "And for the corresponding publication:\n",
        "https://doi.org/10.1038/nbt.3772"
      ]
    },
    {
      "cell_type": "markdown",
      "metadata": {
        "id": "ZWIp9DT8JzRt"
      },
      "source": [
        "Introduction (by Nathaniel):\n",
        "\n",
        "Different types of tissues have different transcriptomes. In this assignment, we will use a neural network to predict the tissue type that produced a certain RNA expression vector. This RNA expression vector's components (features) are expression levels of different genes.\n",
        "\n",
        "These are pruned, since there could be 50,000 per vector! We are limiting the amount of features to just those found in the KEGG Database, linked here:\n",
        "https://www.genome.jp/kegg/genes.html\n",
        "\n"
      ]
    },
    {
      "cell_type": "markdown",
      "metadata": {
        "id": "iT-ULSSvinuQ"
      },
      "source": []
    },
    {
      "cell_type": "code",
      "execution_count": 1,
      "metadata": {
        "id": "lMfjPem3IA0f",
        "colab": {
          "base_uri": "https://localhost:8080/",
          "height": 35
        },
        "outputId": "a1c8ecfc-0136-4531-ced3-fa55988f4251"
      },
      "outputs": [
        {
          "output_type": "execute_result",
          "data": {
            "text/plain": [
              "\"Cell 0: Trying to use the TPU, but I don't have access currently. \""
            ],
            "application/vnd.google.colaboratory.intrinsic+json": {
              "type": "string"
            }
          },
          "metadata": {},
          "execution_count": 1
        }
      ],
      "source": [
        "\"\"\"Cell 0: Trying to use the TPU, but I don't have access currently. \"\"\"\n",
        "# import tensorflow as tf\n",
        "# print(\"Tensorflow version \" + tf.__version__)\n",
        "\n",
        "# try:\n",
        "#   tpu = tf.distribute.cluster_resolver.TPUClusterResolver()  # TPU detection\n",
        "#   print('Running on TPU ', tpu.cluster_spec().as_dict()['worker'])\n",
        "# except ValueError:\n",
        "#   raise BaseException('ERROR: Not connected to a TPU runtime; please see the previous cell in this notebook for instructions!')\n",
        "\n",
        "# tf.config.experimental_connect_to_cluster(tpu)\n",
        "# tf.tpu.experimental.initialize_tpu_system(tpu)\n",
        "# tpu_strategy = tf.distribute.TPUStrategy(tpu)"
      ]
    },
    {
      "cell_type": "markdown",
      "metadata": {
        "id": "x5jNM6Aoikbl"
      },
      "source": [
        "#Part 1"
      ]
    },
    {
      "cell_type": "code",
      "execution_count": 2,
      "metadata": {
        "colab": {
          "base_uri": "https://localhost:8080/"
        },
        "id": "oGeS7--cQc56",
        "outputId": "9fbbf9a4-291e-4325-e979-b961d757dbc1",
        "scrolled": true
      },
      "outputs": [
        {
          "output_type": "stream",
          "name": "stdout",
          "text": [
            "USING pytorch VERSION:  2.1.0+cu121\n"
          ]
        }
      ],
      "source": [
        "\"\"\"Cell 1: Imports\"\"\"\n",
        "import sys\n",
        "import numpy as np\n",
        "from matplotlib import pyplot\n",
        "import pandas as pd\n",
        "import h5py\n",
        "import os\n",
        "from sklearn.model_selection import StratifiedShuffleSplit\n",
        "import torch\n",
        "import torch.nn as nn\n",
        "from torch import optim\n",
        "from torch.autograd import Variable\n",
        "from torch.utils.data import DataLoader\n",
        "from torch.utils.data.dataset import Dataset\n",
        "import torch.nn.functional as F\n",
        "\n",
        "print(\"USING pytorch VERSION: \", torch.__version__)"
      ]
    },
    {
      "cell_type": "markdown",
      "metadata": {
        "id": "pS7Ix_lFQc6L"
      },
      "source": [
        "## Loading and parsing training data\n",
        "For this problem, expression data needs to be loaded and pruned. Initially, there are >50,000 genes in each expression vector, which can be reduced to a much smaller gene set for the sake of minimizing computation time. Here, the data is subsetted to only include genes from the KEGG gene set. You may want to consider reducing or expanding this dataset to get a better understanding of which genes are predictive, though this is not a requirement for the assignment.\n",
        "\n",
        "For a list of gene sets, check out the MSigDB collections page: http://software.broadinstitute.org/gsea/msigdb/collections.jsp\n",
        "\n",
        "This script was adapted from Rob Currie's ingestion script: https://github.com/rcurrie/tumornormal/blob/master/genesets.ipynb\n",
        "\n",
        "We have placed a subset of this data for this homework in Google drive, you can download it here:\n",
        "\n",
        "https://drive.google.com/drive/folders/1pPABQDEHCddPTJAhfD6G5KyBDJiK3unQ?usp=sharing"
      ]
    },
    {
      "cell_type": "code",
      "execution_count": 3,
      "metadata": {
        "id": "NnhNSCGW5FHO",
        "colab": {
          "base_uri": "https://localhost:8080/"
        },
        "outputId": "6227b79e-9ccf-48e4-c18b-7f0d3ec43866"
      },
      "outputs": [
        {
          "output_type": "stream",
          "name": "stderr",
          "text": [
            "WARNING:root:pydrive is deprecated and no longer maintained. We recommend that you migrate your projects to pydrive2, the maintained fork of pydrive\n"
          ]
        }
      ],
      "source": [
        "\"\"\"Cell 2: Data Loading\"\"\"\n",
        "# Load the data - If using Google drive link to access data the following with connect\n",
        "# to drive, authenticate using your Google account and load the data\n",
        "\n",
        "!pip install -U -q PyDrive ## you will have install for every colab session\n",
        "\n",
        "from pydrive.auth import GoogleAuth\n",
        "from pydrive.drive import GoogleDrive\n",
        "from google.colab import auth\n",
        "from oauth2client.client import GoogleCredentials\n",
        "\n",
        "# 1. Authenticate and create the PyDrive client.\n",
        "auth.authenticate_user()\n",
        "gauth = GoogleAuth()\n",
        "gauth.credentials = GoogleCredentials.get_application_default()\n",
        "drive = GoogleDrive(gauth)\n",
        "\n",
        "#x_test: https://drive.google.com/file/d/1Cc4zEw1wANFX8S44L87Rx_EZWwCcONMW/view?usp=sharing\n",
        "#x_train: https://drive.google.com/file/d/1s8VvRaUc62OYukRunV689Y9u-v_y7KRl/view?usp=sharing\n",
        "#y_test: https://drive.google.com/file/d/1W4Qdr3zm5QYGP5ncMQSurrO1m05KsKQ2/view?usp=sharing\n",
        "#t_train: https://drive.google.com/file/d/1UmDZ25W84DmIY4im2XHCAc5QGgNkdexD/view?usp=sharing\n",
        "\n",
        "# 2. Now proxy the Google Drive files to a local file\n",
        "x_test_import = drive.CreateFile({'id':'1Cc4zEw1wANFX8S44L87Rx_EZWwCcONMW'})\n",
        "x_train_import = drive.CreateFile({'id':'1s8VvRaUc62OYukRunV689Y9u-v_y7KRl'})\n",
        "y_test_import = drive.CreateFile({'id':'1W4Qdr3zm5QYGP5ncMQSurrO1m05KsKQ2'})\n",
        "y_train_import = drive.CreateFile({'id':'1UmDZ25W84DmIY4im2XHCAc5QGgNkdexD'})\n",
        "\n",
        "x_test_import.GetContentFile('x_test.npz') # x_test.npz is the file name that will be accessible in the notebook.\n",
        "x_train_import.GetContentFile('x_train.npz') # x_train.npz is the file name that will be accessible in the notebook.\n",
        "y_test_import.GetContentFile('y_test.npz') # y_test.npz is the file name that will be accessible in the notebook.\n",
        "y_train_import.GetContentFile('y_train.npz') # y_train.npz is the file name that will be accessible in the notebook.\n",
        "\n",
        "y_index_key = {'Adipose Tissue': 0, 'Adrenal Gland': 1, 'Adrenal gland': 2, 'Bile duct': 3, 'Bladder': 4, 'Blood': 5, 'Blood Vessel': 6, 'Bone Marrow': 7, 'Brain': 8, 'Breast': 9, 'Cervix': 10, 'Cervix Uteri': 11, 'Colon': 12, 'Endometrium': 13, 'Esophagus': 14, 'Eye': 15, 'Fallopian Tube': 16, 'Head and Neck region': 17, 'Heart': 18, 'Kidney': 19, 'Lining of body cavities': 20, 'Liver': 21, 'Lung': 22, 'Lymphatic tissue': 23, 'Muscle': 24, 'Nerve': 25, 'Ovary': 26, 'Pancreas': 27, 'Paraganglia': 28, 'Pituitary': 29, 'Prostate': 30, 'Rectum': 31, 'Salivary Gland': 32, 'Skin': 33, 'Small Intestine': 34, 'Soft tissue,Bone': 35, 'Spleen': 36, 'Stomach': 37, 'SympatheticÊNervous System': 38, 'Testis': 39, 'Thymus': 40, 'Thyroid': 41, 'Thyroid Gland': 42, 'Uterus': 43, 'Vagina': 44, 'White blood cell': 45}\n",
        "\n",
        "#for name in y_index_key:\n",
        "  #print(name, y_index_key[name])"
      ]
    },
    {
      "cell_type": "markdown",
      "metadata": {
        "id": "TrsZRNaIJX5q"
      },
      "source": []
    },
    {
      "cell_type": "markdown",
      "metadata": {
        "id": "m5u_LlXvQc6V"
      },
      "source": [
        "## Define a pytorch Dataset object to contain the training and testing data\n",
        "Pytorch handles data shuffling and batch loading, as long as the user provides a \"Dataset\" class. This class is just a wrapper for your data that casts the data into pytorch tensor format and returns slices of the data. In this case, our data has been stored in numpy format, which conveniently pytorch has a method for converting to their native format."
      ]
    },
    {
      "cell_type": "code",
      "execution_count": 4,
      "metadata": {
        "id": "jLJ6bZveQc6W"
      },
      "outputs": [],
      "source": [
        "\"\"\"Cell 3: PrimarySiteDataset class wrapper for test/train split\"\"\"\n",
        "class PrimarySiteDataset(Dataset):\n",
        "    def __init__(self, x_path, y_path, batch_size=None):\n",
        "        x = np.load(x_path)['a']\n",
        "        y = np.load(y_path)['a']\n",
        "\n",
        "        x_dtype = torch.FloatTensor\n",
        "        y_dtype = torch.FloatTensor     # for MSE Loss\n",
        "\n",
        "        self.length = x.shape[0]\n",
        "\n",
        "        self.x_data = torch.from_numpy(x).type(x_dtype)\n",
        "        self.y_data = torch.from_numpy(y).type(y_dtype)\n",
        "\n",
        "    def __getitem__(self, index):\n",
        "        return self.x_data[index], self.y_data[index]\n",
        "\n",
        "    def __len__(self):\n",
        "        return self.length"
      ]
    },
    {
      "cell_type": "markdown",
      "metadata": {
        "id": "8pyqPdA0pI6N"
      },
      "source": [
        "example dataset\n"
      ]
    },
    {
      "cell_type": "code",
      "execution_count": 5,
      "metadata": {
        "id": "qKn65jfupJEz"
      },
      "outputs": [],
      "source": [
        "\"\"\"Cell 4: Taking training and testing data and generating PrimarySiteDataset class wrapper objects\"\"\"\n",
        "x_train_path = \"x_train.npz\"\n",
        "y_train_path = \"y_train.npz\"\n",
        "x_test_path = \"x_test.npz\"\n",
        "y_test_path = \"y_test.npz\"\n",
        "\n",
        "import numpy as np\n",
        "\n",
        "\n",
        "dataset_train = PrimarySiteDataset(x_path=x_train_path,\n",
        "y_path=y_train_path)\n",
        "\n",
        "\n",
        "dataset_test = PrimarySiteDataset(x_path=x_test_path,\n",
        "y_path=y_test_path)\n"
      ]
    },
    {
      "cell_type": "code",
      "execution_count": 6,
      "metadata": {
        "colab": {
          "base_uri": "https://localhost:8080/"
        },
        "id": "XxBJhl2CpTUE",
        "outputId": "04a4ab63-94b9-483a-d4a7-75de9bda8645"
      },
      "outputs": [
        {
          "output_type": "stream",
          "name": "stdout",
          "text": [
            "Train datapoints:  15300\n",
            "Test datapoints:  3826\n",
            "Input features:  5172\n",
            "Output classes:  46\n"
          ]
        }
      ],
      "source": [
        "\"\"\"Cell 5: Statistics of test/train datasets\"\"\"\n",
        "# Print information on the train and test datasets\n",
        "print('Train datapoints: ', len(dataset_train))\n",
        "\n",
        "#for x,y in dataset_test:\n",
        "  #print(x,list(y).index(1))\n",
        "\n",
        "\n",
        "print('Test datapoints: ', len(dataset_test))\n",
        "print('Input features: ', len(dataset_train[1][0]))\n",
        "print('Output classes: ', len(dataset_train[1][1]))"
      ]
    },
    {
      "cell_type": "markdown",
      "metadata": {
        "id": "LZhhTkFjifQE"
      },
      "source": [
        "# Part 2"
      ]
    },
    {
      "cell_type": "markdown",
      "metadata": {
        "id": "0kbMn-rmlGVS"
      },
      "source": [
        "For this section you will write the remaining methods needed to train and test the network. You\n",
        "can reuse the methods from the in-class exercise, but you will need to edit them before they\n",
        "will work properly with the new data."
      ]
    },
    {
      "cell_type": "markdown",
      "metadata": {
        "id": "SUr7DAiGtsFu"
      },
      "source": [
        "1. Start by copying train(), train_batch(), test(), test_batch(), plot_loss(), run(), and the model class ShallowLinear into your notebook. Give each method and class an independent cell in your notebook. Include a very brief explanation about the purpose they serve, and very briefly describe each of their inputs and outputs (parameters and returned objects). This should also be done for any methods you may write later in the assignment.\n",
        "\n",
        "These are written in the comments above the method, so I won't post them in the written answers below."
      ]
    },
    {
      "cell_type": "code",
      "execution_count": 7,
      "metadata": {
        "id": "-ATRV9sDj9K_"
      },
      "outputs": [],
      "source": [
        "\"\"\"Cell 6: Shallow Linear class to set up the architecture of the NN and its foward method\"\"\"\n",
        "#ShallowLinear class\n",
        "\n",
        "#The ShallowLinear is a wrapper of the nn.Module class.\n",
        "#nn.Module is the base class for every neural network module in PyTorch. This means it contains all of the attributes that must belong to a neural network model class.\n",
        "#https://pytorch.org/docs/stable/generated/torch.nn.Module.html\n",
        "\n",
        "#\"Inputs\": At initialization, the quantity and dimensions of the layers are \"hardcoded\", along with the type corresponding to each.\n",
        "#Also, it contains the forward pass method. This method takes an input vector (x) and returns the output layer.\n",
        "#Outputs: forward returns the prediction (ie, output layer)\n",
        "class ShallowLinear(nn.Module):\n",
        "    '''\n",
        "    A simple, general purpose, fully connected network\n",
        "    '''\n",
        "    def __init__(self):\n",
        "        # Perform initialization of the pytorch superclass (which is nn.Module)\n",
        "        super(ShallowLinear, self).__init__()\n",
        "\n",
        "        # Define network layer dimensions\n",
        "        #In the case of this workflow, the size of the input layer should be 5172, one for each feature of the expression vector\n",
        "        #Additionally, the size of the output layer should be 46, 1 for each tissue class that might have produced the expression vector\n",
        "        D_in, H1, H2, D_out = [5172, 40, 40, 46]    # These numbers correspond to each layer: [input, hidden_1, output]\n",
        "\n",
        "        # Define layer types\n",
        "        self.linear1 = nn.Linear(D_in, H1)\n",
        "        self.linear2 = nn.Linear(H1, H2)\n",
        "        self.linear3 = nn.Linear(H2, D_out)\n",
        "\n",
        "        #log of softmax to bo used for activation function\n",
        "        self.lgSM = nn.LogSoftmax(dim=1)\n",
        "\n",
        "    def forward(self, x):\n",
        "        '''\n",
        "        This method defines the network layering and activation functions\n",
        "        '''\n",
        "        x = self.linear1(x) # hidden layer\n",
        "        x = self.lgSM(x)       # activation function\n",
        "        x = self.linear2(x) # hidden layer\n",
        "        x = self.lgSM(x)       # activation function\n",
        "        y_prime = self.linear3(x) # output layer\n",
        "\n",
        "        return y_prime\n",
        "\n",
        "\n"
      ]
    },
    {
      "cell_type": "code",
      "execution_count": 8,
      "metadata": {
        "id": "Ua6kisxvdCdm"
      },
      "outputs": [],
      "source": [
        "\"\"\"Cell 7: Train batch, which is training the model on a single data batch to be run over all epochs\"\"\"\n",
        "#train_batch method\n",
        "\n",
        "#this is the method that trains individual data batches (see definition here: https://machinelearningmastery.com/difference-between-a-batch-and-an-epoch/)\n",
        "#Inputs: a ML model to be trained (here an instance of ShallowLinear), input vector (x), true value vector (y), an optimizing function, and a loss function\n",
        "#Outputs: Returns the loss for the batch\n",
        "#while not an output, critically, the optimizer function's weight and bias are updated in the pentulimate line\n",
        "\n",
        "\n",
        "def train_batch(model, x, y, optimizer, loss_fn):\n",
        "    ## Note, in practice pytorch can do this all for you in one step, but showing you here to be explicit\n",
        "\n",
        "    # Run forward calculation\n",
        "    #Forward pass refers to calculating the next layers using the activation function of the weight and value of\n",
        "    #the previous node\n",
        "\n",
        "    y_predict = model.forward(x)\n",
        "\n",
        "    # Compute loss\n",
        "    #in lecture, we define this as 1/2 (y-y*)^2\n",
        "    #in the first version, we used MSE as the loss function\n",
        "\n",
        "    #in the final version, Cross Entropy Loss will be used, using softmax\n",
        "    #to do this, 1 Hot vectors need to be mapped back to the indices in the tissue types dictionary\n",
        "    max_values, target_index = y.max(dim=1)\n",
        "    target_index = target_index.type(torch.LongTensor)\n",
        "\n",
        "    loss = loss_fn(y_predict, target_index)\n",
        "\n",
        "    # Before the backward pass, use the optimizer object to zero all of the\n",
        "    # gradients for the variables it will update (which are the learnable weights of the model)\n",
        "    #in essence, this is clearing them before the \"back-propagation step\"\n",
        "    optimizer.zero_grad()\n",
        "\n",
        "\n",
        "    # Backward pass: compute gradient of the loss with respect to model\n",
        "    # parameters\n",
        "    #this is using the chain rule calculations we defined in the slides\n",
        "    loss.backward()\n",
        "\n",
        "    # Calling the step function on an Optimizer makes an update to its\n",
        "    # parameters\n",
        "    #this is the back-propagation step\n",
        "    optimizer.step()\n",
        "\n",
        "    #returning the trained model's loss as a float\n",
        "    return loss.data.item()"
      ]
    },
    {
      "cell_type": "code",
      "execution_count": 9,
      "metadata": {
        "id": "d9UgLrhet5P2"
      },
      "outputs": [],
      "source": [
        "\"\"\"Cell 8: The training loop over the epochs.\"\"\"\n",
        "#train method\n",
        "\n",
        "#This method actually runs a training loop for the model as we saw in linear regression, it just uses the model given to it (in this case a sNN)\n",
        "#Inputs: Same parameters as_train batch, except it includes one for epochs, and uses a loader.\n",
        "\n",
        "#Note: loaders are objects that pass data into batches with a shuffle parameter; returns batches\n",
        "#Documentation of loaders: https://pytorch.org/tutorials/beginner/basics/data_tutorial.html\n",
        "\n",
        "#Outputs: the train loops collects the losses in a list from every batch and returns it\n",
        "\n",
        "#train loop is same as in regression\n",
        "\n",
        "#the loader parameter contains all of the xy training points; each xy correspond to a batch\n",
        "def train(model, loader, optimizer, loss_fn, epochs=5):\n",
        "    losses = list()\n",
        "\n",
        "    batch_index = 0\n",
        "    for e in range(epochs):\n",
        "        for x, y in loader:\n",
        "            loss = train_batch(model=model, x=x, y=y, optimizer=optimizer, loss_fn=loss_fn)\n",
        "            losses.append(loss)\n",
        "\n",
        "            batch_index += 1\n",
        "\n",
        "    return losses"
      ]
    },
    {
      "cell_type": "code",
      "execution_count": 10,
      "metadata": {
        "id": "wcmDNva-kDhQ"
      },
      "outputs": [],
      "source": [
        "\"\"\"Cell 9: Testing one batch\"\"\"\n",
        "#test_batch method\n",
        "\n",
        "#this method is just like the train one but it doesn't update any parameters, it just evaluates the forward pass for the trained model for one batch\n",
        "\n",
        "#Inputs: Input vector (x), true output vector (y), and trained model\n",
        "#Outputs: Returns the true output vector and the prediction vector\n",
        "\n",
        "def test_batch(model, x, y):\n",
        "    # run forward calculation to determine, with trained parameters, what the predicition is\n",
        "    y_predict = model.forward(x)\n",
        "\n",
        "    return y, y_predict\n"
      ]
    },
    {
      "cell_type": "code",
      "execution_count": 11,
      "metadata": {
        "id": "2if_j6zPkF9g"
      },
      "outputs": [],
      "source": [
        "\"\"\"Cell 10: Testing over all batchesm just like train\"\"\"\n",
        "#this method is just the loop version of the test batch method over all of the batches\n",
        "\n",
        "#Inputs: Loader (see above) and the trained model\n",
        "#Outputs: Prediction vector (y')\n",
        "\n",
        "def test(model, loader):\n",
        "    y_vectors = list()\n",
        "    y_predict_vectors = list()\n",
        "\n",
        "    batch_index = 0\n",
        "    for x, y in loader:\n",
        "        y, y_predict = test_batch(model=model, x=x, y=y)\n",
        "\n",
        "        y_vectors.append(y.data.numpy())\n",
        "        y_predict_vectors.append(y_predict.data.numpy())\n",
        "\n",
        "        batch_index += 1\n",
        "\n",
        "    y_predict_vector = np.concatenate(y_predict_vectors)\n",
        "\n",
        "    return y_predict_vector"
      ]
    },
    {
      "cell_type": "code",
      "execution_count": 12,
      "metadata": {
        "id": "QldOt1wskQIB"
      },
      "outputs": [],
      "source": [
        "\"\"\"Cell 11: Plotting the loss...\"\"\"\n",
        "#plot_loss method\n",
        "\n",
        "#this method opens up a plot of the losses over batches\n",
        "#Inputs: the losses from the train loop\n",
        "#Outputs: A plot of losses\n",
        "\n",
        "def plot_loss(losses):\n",
        "    fig = pyplot.gcf()\n",
        "    fig.set_size_inches(8,6)\n",
        "    ax = pyplot.axes()\n",
        "    ax.set_xlabel(\"Iteration\")\n",
        "    ax.set_ylabel(\"Loss\")\n",
        "    x_loss = list(range(len(losses)))\n",
        "    pyplot.plot(x_loss, losses)\n",
        "    pyplot.show()\n",
        "    pyplot.close()"
      ]
    },
    {
      "cell_type": "code",
      "execution_count": 13,
      "metadata": {
        "id": "ARqSz6HlkVMv"
      },
      "outputs": [],
      "source": [
        "\"\"\"Cell 12: Most important one; executes the training, testing, and plotting\"\"\"\n",
        "#run method\n",
        "\n",
        "#this method actually executes the train and test loops after parsing in the dataset using all of the above methods\n",
        "#It makes use of althe helper methods above\n",
        "\n",
        "#Inputs: Training dataset, testing dataset, batch size, and number of epochs\n",
        "#*while not strict inputs, the learning rate hyperparameters and the model type (Shallowlinear) are hardcoded\n",
        "\n",
        "#Outputs: It returns the losses over all batches and the prediction vector\n",
        "\n",
        "def run(dataset_train, dataset_test, batch_size_train = 8, n_epochs = 20):\n",
        "    # Batch size is the number of training examples used to calculate each iteration's gradient\n",
        "\n",
        "\n",
        "    data_loader_train = DataLoader(dataset=dataset_train, batch_size=batch_size_train, shuffle=True)\n",
        "    data_loader_test = DataLoader(dataset=dataset_test, batch_size=len(dataset_test), shuffle=False)\n",
        "\n",
        "    # Define the hyperparameters\n",
        "    learning_rate = 1e-4 + .3e-6\n",
        "    shallow_model = ShallowLinear()\n",
        "\n",
        "    # Initialize the optimizer with above parameters\n",
        "    #original optimizer was the adam function\n",
        "    #optimizer = optim.Adam(shallow_model.parameters(), lr=learning_rate)\n",
        "\n",
        "    #to decrease runtime, the SGD optimizer will be used\n",
        "    optimizer = optim.SGD(shallow_model.parameters(), lr=learning_rate)\n",
        "\n",
        "    # Define the loss function\n",
        "\n",
        "    #loss_fn = nn.MSELoss()  # mean squared error\n",
        "\n",
        "    #changed the loss function to Cross Entropy Loss for proper representation\n",
        "    loss_fn = nn.CrossEntropyLoss()\n",
        "\n",
        "    # Train and get the resulting loss over all batches\n",
        "    loss = train(model=shallow_model, loader=data_loader_train, optimizer=optimizer, loss_fn=loss_fn, epochs=n_epochs)\n",
        "\n",
        "    # Test and get the resulting predicted y values\n",
        "    y_predict = test(model=shallow_model, loader=data_loader_test)\n",
        "\n",
        "    return loss, y_predict\n",
        "\n"
      ]
    },
    {
      "cell_type": "markdown",
      "metadata": {
        "id": "tAoP5LcG2LQQ"
      },
      "source": [
        "2. Draw a flowchart to describe the flow of information through this script, starting with x_train, y_train, x_test, y_test. You should be able to follow how the x and y vectors are used to create the final output of this notebook: results and figures. Post the image as a link to a SHARED image on google drive.\n",
        "\n",
        "\n",
        "https://drive.google.com/file/d/1Us42rxJSM_slaaxW6zqGQqN2FO9js1NJ/view?usp=sharing"
      ]
    },
    {
      "cell_type": "code",
      "execution_count": 14,
      "metadata": {
        "colab": {
          "base_uri": "https://localhost:8080/"
        },
        "id": "hMCAuzF6PvBX",
        "outputId": "da4c0a67-460e-4013-c671-2f5c51b054e9"
      },
      "outputs": [
        {
          "output_type": "stream",
          "name": "stdout",
          "text": [
            "torch.Size([15300, 5172])\n",
            "torch.Size([15300, 46])\n",
            "Train set size:  15300\n",
            "Test set size:  3826\n"
          ]
        }
      ],
      "source": [
        "\"\"\"Cell 13: passing in the data to PrimarySiteDataset\"\"\"\n",
        "#setting up the paths to the training and testing data\n",
        "\n",
        "import numpy as np\n",
        "\n",
        "x_train_path = \"x_train.npz\"\n",
        "\n",
        "y_train_path = \"y_train.npz\"\n",
        "\n",
        "x_test_path = \"x_test.npz\"\n",
        "\n",
        "y_test_path = \"y_test.npz\"\n",
        "\n",
        "#setting up the training and testing datasets from the paths\n",
        "#using the PrimarySiteDataset base class\n",
        "dataset_train = PrimarySiteDataset(x_path=x_train_path, y_path=y_train_path)\n",
        "\n",
        "dataset_test = PrimarySiteDataset(x_path=x_test_path, y_path=y_test_path)\n",
        "\n",
        "\n",
        "#newArray = np.ravel(dataset_train.x_data)\n",
        "\n",
        "\n",
        "#print(\"y data\", np.max(newArray))\n",
        "\n",
        "print(dataset_train.x_data.shape)\n",
        "print(dataset_train.y_data.shape)\n",
        "print(\"Train set size: \", dataset_train.length)\n",
        "print(\"Test set size: \", dataset_test.length)\n",
        "\n"
      ]
    },
    {
      "cell_type": "code",
      "source": [
        "\"\"\"Cell 14: Calling run on the given data\"\"\"\n",
        "#train and test the model\n",
        "losses, y_predict = run(dataset_train=dataset_train, dataset_test=dataset_test)  # Put it all together and\n"
      ],
      "metadata": {
        "id": "vpdOybK7M0f2"
      },
      "execution_count": 15,
      "outputs": []
    },
    {
      "cell_type": "code",
      "source": [
        "\"\"\"Cell 15: Reporting the final loss, dimensions of prediction and true output, vectors and plotting the loss\"\"\"\n",
        "\n",
        "print(\"Final loss:\", np.sum(losses[-len(losses):])/len(losses))  # Report the loss\n",
        "\n",
        "print(\"y prediction vectors:\", y_predict, \"size:\", y_predict.shape)\n",
        "print(\"true y vector:\", dataset_test.y_data, \"size:\", dataset_test.y_data.shape )\n",
        "\n",
        "\n",
        "plot_loss(losses) # Plotting the loss function\n"
      ],
      "metadata": {
        "colab": {
          "base_uri": "https://localhost:8080/",
          "height": 917
        },
        "id": "VXk1hWzENp_R",
        "outputId": "164ee980-67e3-4664-e88c-428a4e0964a6"
      },
      "execution_count": 17,
      "outputs": [
        {
          "output_type": "stream",
          "name": "stdout",
          "text": [
            "Final loss: 0.389240001351174\n",
            "y prediction vectors: [[ -0.7774668   -1.3749745   -0.8987273  ...   1.0840168   -1.7437745\n",
            "   -5.7708373 ]\n",
            " [ -1.404115    -4.257525    -2.6655357  ...  -5.7172523   -2.9108753\n",
            "    4.190204  ]\n",
            " [ -6.3145757   -5.2292814   -0.9324768  ...  -7.037421   -12.188224\n",
            "   15.70822   ]\n",
            " ...\n",
            " [ -7.121143    -2.3994555   -0.369331   ...  -0.75258744   0.87592\n",
            "  -10.906823  ]\n",
            " [ -4.814128    -2.8161578    3.9915848  ...   1.49149     -4.241846\n",
            "   -1.6861635 ]\n",
            " [ -0.17943656  -1.1073323   -0.70534885 ...   0.16557327  -1.9382493\n",
            "   -3.355995  ]] size: (3826, 46)\n",
            "true y vector: tensor([[0., 0., 0.,  ..., 0., 0., 0.],\n",
            "        [0., 0., 0.,  ..., 0., 0., 0.],\n",
            "        [0., 0., 0.,  ..., 0., 0., 1.],\n",
            "        ...,\n",
            "        [0., 0., 0.,  ..., 0., 0., 0.],\n",
            "        [0., 0., 0.,  ..., 0., 0., 0.],\n",
            "        [0., 0., 0.,  ..., 0., 0., 0.]]) size: torch.Size([3826, 46])\n"
          ]
        },
        {
          "output_type": "display_data",
          "data": {
            "text/plain": [
              "<Figure size 800x600 with 1 Axes>"
            ],
            "image/png": "[encoded data removed]"
          },
          "metadata": {}
        }
      ]
    },
    {
      "cell_type": "markdown",
      "metadata": {
        "id": "mEgweY6Xfr37"
      },
      "source": [
        "# **Part 3**"
      ]
    },
    {
      "cell_type": "markdown",
      "metadata": {
        "id": "ANi-W-AEfy37"
      },
      "source": [
        "\n",
        "4. 4. Each training/testing example in the output has the form:\n",
        "\n",
        "[𝑦1, 𝑦2 ,… , 𝑦𝑐 ], 𝑓𝑜𝑟 𝑐 = number of classes\n",
        "\n",
        "To get a sense of what this looks like, make a table of **the first training example** with the\n",
        "following format, showing all the rows (the one below is shortened):\n",
        "![image.png](data:image/png;base64,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)\n",
        "\n",
        "\n"
      ]
    },
    {
      "cell_type": "code",
      "execution_count": 18,
      "metadata": {
        "colab": {
          "base_uri": "https://localhost:8080/"
        },
        "id": "-DpTYfFepDaw",
        "outputId": "ba314ccc-ebe5-4762-c8fb-4efe36303eb4"
      },
      "outputs": [
        {
          "output_type": "stream",
          "name": "stdout",
          "text": [
            "8\n",
            "    y_predict    y\n",
            "0   -0.777467  0.0\n",
            "1   -1.374974  0.0\n",
            "2   -0.898727  0.0\n",
            "3   -0.701469  0.0\n",
            "4   -3.006265  0.0\n",
            "5   -0.800085  0.0\n",
            "6   -1.089566  0.0\n",
            "7   -9.259452  0.0\n",
            "8   12.600244  1.0\n",
            "9   -4.631131  0.0\n",
            "10  -4.135623  0.0\n",
            "11  -3.555473  0.0\n",
            "12  -1.850466  0.0\n",
            "13   0.248921  0.0\n",
            "14  -0.549511  0.0\n",
            "15   2.742793  0.0\n",
            "16  -3.554317  0.0\n",
            "17  -7.494641  0.0\n",
            "18   1.669443  0.0\n",
            "19   3.240846  0.0\n",
            "20   3.005817  0.0\n",
            "21   0.341402  0.0\n",
            "22  -7.018807  0.0\n",
            "23  -2.773203  0.0\n",
            "24  -1.995544  0.0\n",
            "25   0.817851  0.0\n",
            "26   2.804613  0.0\n",
            "27  -4.273245  0.0\n",
            "28   4.629512  0.0\n",
            "29   4.913989  0.0\n",
            "30  -5.682848  0.0\n",
            "31  -2.142233  0.0\n",
            "32  -6.190445  0.0\n",
            "33  -5.051701  0.0\n",
            "34   0.599515  0.0\n",
            "35   0.965889  0.0\n",
            "36  -3.220597  0.0\n",
            "37   2.154016  0.0\n",
            "38  -0.077508  0.0\n",
            "39  -5.362751  0.0\n",
            "40  -1.181064  0.0\n",
            "41  -0.434406  0.0\n",
            "42  -9.818991  0.0\n",
            "43   1.084017  0.0\n",
            "44  -1.743775  0.0\n",
            "45  -5.770837  0.0\n"
          ]
        }
      ],
      "source": [
        "\"\"\"Cell 16: Table of predictions and true ys\"\"\"\n",
        "\n",
        "#THIS IS ONLY THE FIRST TRAINING/TESTING EXAMPLE!!!!!\n",
        "import numpy as np\n",
        "import pandas as pd\n",
        "\n",
        "\n",
        "data = {'y_predict': np.ravel(y_predict[0]), \"y\": np.ravel(dataset_test.y_data[0])}\n",
        "print(np.argmax(np.ravel(y_predict[0])))\n",
        "\n",
        "ypredictAndTrueTable = pd.DataFrame(data = data)\n",
        "print(ypredictAndTrueTable)"
      ]
    },
    {
      "cell_type": "markdown",
      "metadata": {
        "id": "wFUI3l0rvp7w"
      },
      "source": [
        "  5. We only want to know which class the model predicted to be the most probable. Use numpy.argmax() to take the raw predicted and expected output vectors and find the index of their maximum value.\n",
        "\n",
        "Now you can quickly compare whether there is a match or mismatch between your\n",
        "models prediction and the true value. Print the shape of your argmax vectors to verify they have n entries. Write the first value of y_argmax and y_predict_argmax and compare them to the table you made in #4. Does the relationship between these values and your #4 values make sense. Do you expect the y_predict argmax to match your truth set?\n",
        "\n",
        "\n",
        "The relationship does make sense; we expect the argmaxes to match. This is because the prediction represnts the expected curve, which approximates the function in question. As such, the maxima and minima locations of the predictions should be the same as the function itself.  "
      ]
    },
    {
      "cell_type": "code",
      "execution_count": 19,
      "metadata": {
        "colab": {
          "base_uri": "https://localhost:8080/"
        },
        "id": "BPPjiA78lhN1",
        "outputId": "96d8802c-d414-435f-9044-292777e2f469"
      },
      "outputs": [
        {
          "output_type": "stream",
          "name": "stdout",
          "text": [
            "shape of argmax Predict Vector: 175996\n",
            "predicted argmax: 8\n",
            "\n",
            "shape of argmax Expected Vector: 175996\n",
            "expected argmax: 8\n",
            "\n",
            "Percentage accuracy: 96.23627471923828 %\n"
          ]
        }
      ],
      "source": [
        "\"\"\"Cell 17, Argmax of the prediction and true vectors.\"\"\"\n",
        "#Q5\n",
        "#in this case, n entries = length of flattened array = #training examples * #numberclasses = 3826 * 46 = 175996\n",
        "#this is the first example\n",
        "\n",
        "\n",
        "from numpy import argmax as argmax\n",
        "\n",
        "#max index of the raw predicted vector\n",
        "print(\"shape of argmax Predict Vector:\", len(np.ravel(y_predict)))\n",
        "maxRawPredictVector = argmax(y_predict[0])\n",
        "print(\"predicted argmax:\", maxRawPredictVector)\n",
        "#print(\"Argmax Vector:\", y_predict[maxRawPredictVector])\n",
        "\n",
        "#max in dex of the expected output vector\n",
        "#print(max(np.ravel(dataset_train.y_data)))\n",
        "#print(dataset_test.y_data.shape)\n",
        "\n",
        "print(\"\")\n",
        "\n",
        "print(\"shape of argmax Expected Vector:\", len(np.ravel(dataset_test.y_data)))\n",
        "maxExpectedOutputVector = argmax(dataset_test.y_data[0])\n",
        "print(\"expected argmax:\", int(maxExpectedOutputVector))\n",
        "#print(\"Argmax Vector:\", dataset_test.y_data[maxExpectedOutputVector])\n",
        "\n",
        "#Q6\n",
        "\n",
        "#get classfication accuracy percentage\n",
        "\n",
        "#getting predicted value argmaxs of both as above by going over both vectors at once\n",
        "\n",
        "numberOfTrials = len(y_predict)\n",
        "correctPredictions = 0\n",
        "for yPredictionVector,yTrueVector in zip(y_predict,dataset_test.y_data):\n",
        "  predIndex,trueIndex = np.argmax(yPredictionVector),np.argmax(yTrueVector)\n",
        "  #print(predIndex,trueIndex)\n",
        "  correctPredictions += (predIndex == trueIndex)\n",
        "\n",
        "correctTimesProportion =  correctPredictions/numberOfTrials\n",
        "\n",
        "print(\"\")\n",
        "\n",
        "print(\"Percentage accuracy:\", float(correctTimesProportion*100), \"%\")\n",
        "\n",
        "\n",
        "\n"
      ]
    },
    {
      "cell_type": "code",
      "execution_count": 20,
      "metadata": {
        "colab": {
          "base_uri": "https://localhost:8080/",
          "height": 1000
        },
        "id": "mdeivtH2sUsm",
        "outputId": "2e3ea111-169e-45a3-cf56-90176d83b437"
      },
      "outputs": [
        {
          "output_type": "display_data",
          "data": {
            "text/plain": [
              "<Figure size 800x600 with 1 Axes>"
            ],
            "image/png": "[encoded data removed]"
          },
          "metadata": {}
        },
        {
          "output_type": "display_data",
          "data": {
            "text/plain": [
              "<Figure size 800x600 with 1 Axes>"
            ],
            "image/png": "[encoded data removed]"
          },
          "metadata": {}
        }
      ],
      "source": [
        "\n",
        "\"Cell 18: plotting a histogram of the argmax values for true and predicted y vectors\"\"\"\n",
        "\n",
        "#predicted y\n",
        "from numpy import histogram as histo\n",
        "from matplotlib import pyplot as plt\n",
        "\n",
        "fig1 = plt.figure(1)\n",
        "fig1.set_size_inches(8,6)\n",
        "\n",
        "ax = plt.axes()\n",
        "ax.set_xlabel(\"Class Index\")\n",
        "ax.set_ylabel(\"Frequency (Predicted)\")\n",
        "x_Range = list(range(len(y_predict)))\n",
        "\n",
        "predictedHisto = histo(  [np.argmax(yPredictionVector) for yPredictionVector in y_predict] )\n",
        "plt.hist(predictedHisto)\n",
        "\n",
        "fig1.show()\n",
        "\n",
        "fig2 = plt.figure(2)\n",
        "fig2.set_size_inches(8,6)\n",
        "\n",
        "ax = plt.axes()\n",
        "ax.set_xlabel(\"Class Index\")\n",
        "ax.set_ylabel(\"Frequency (True)\")\n",
        "x_Range = list(range(len(y_predict)))\n",
        "\n",
        "trueHisto = histo(  [np.argmax(yPredictionVector) for yPredictionVector in dataset_test.y_data] )\n",
        "plt.hist(trueHisto)\n",
        "\n",
        "fig2.show()\n",
        "\n",
        "\n",
        "\n",
        "plt.show()\n",
        "plt.close()\n"
      ]
    },
    {
      "cell_type": "markdown",
      "metadata": {
        "id": "CKCMCSFukBtD"
      },
      "source": [
        "# **Part 4**\n",
        "\n",
        "Changing to Cross Entropy Loss function.\n",
        "\n",
        "Omitted instructions for clarity...in the HW assignment. Edits are explained by a comment in train_batch.\n",
        "\n"
      ]
    },
    {
      "cell_type": "markdown",
      "metadata": {
        "id": "sh4tterKp9pN"
      },
      "source": [
        "# **Part 5**\n",
        "\n",
        "Here you are free to make any edits to the model you think are worthwhile, and you can try your best to maximize the accuracy of its predictions by tuning each hyperparameter. If instead you are interested in generating a minimal model, or exploring which gene subset has the greatest predictive value, these are both interesting questions that you can answer by rewriting\n",
        "the model. As long as you explain your results using prediction, accuracy, and confusion, and you demonstrate an understanding of the fundamentals, any configuration is fine."
      ]
    },
    {
      "cell_type": "markdown",
      "metadata": {
        "id": "iwL3imYfqixO"
      },
      "source": [
        "1. Make a normalized confusion matrix with your results, and plot it as a heat map (pyplot.imshow). Make sure the axis are labelled either with the text name of each class or something that will allow you to look up the class name.\n",
        "\n",
        "Confusion Matrix: https://scikit-learn.org/stable/modules/generated/sklearn.metrics.confusion_matrix.html\n",
        "\n",
        "See this page for instructions on displaying a normalized confusion matrix:\n",
        "https://scikit-learn.org/stable/auto_examples/model_selection/plot_confusion_matrix.html"
      ]
    },
    {
      "cell_type": "code",
      "execution_count": 21,
      "metadata": {
        "colab": {
          "base_uri": "https://localhost:8080/",
          "height": 1000
        },
        "id": "mBvdcVYEqyaR",
        "outputId": "c04abe4b-8f97-4127-909a-5ac0e489ddff"
      },
      "outputs": [
        {
          "output_type": "display_data",
          "data": {
            "text/plain": [
              "<Figure size 3000x3000 with 1 Axes>"
            ],
            "image/png": "[encoded data removed]"
          },
          "metadata": {}
        }
      ],
      "source": [
        "\"\"\"Cell 19: Confusion matrix of predicted and true vectors as a heatmap\"\"\"\n",
        "\"\"\"Answer to Pt.5 Q1\"\"\"\n",
        "\n",
        "\n",
        "from sklearn.metrics import confusion_matrix as cMatrix\n",
        "from sklearn.metrics import ConfusionMatrixDisplay\n",
        "from matplotlib import pyplot as plt\n",
        "\n",
        "\n",
        "fig1 = plt.figure(1)\n",
        "fig1.set_size_inches(30,30)\n",
        "\n",
        "ax = plt.axes()\n",
        "\n",
        "\n",
        "\n",
        "\n",
        "argMaxesPredictions = [np.argmax(yPredictionVector) for yPredictionVector in y_predict]\n",
        "argMaxesTrues = [np.argmax(yPredictionVector) for yPredictionVector in dataset_test.y_data]\n",
        "\n",
        "\n",
        "\n",
        "\n",
        "labels = list(y_index_key.keys())\n",
        "\n",
        "#for pred, true in zip(argMaxesPredictions, argMaxesTrues):\n",
        "  #print(pred,true)\n",
        "\n",
        "\n",
        "#creating confusion matrix and displaying\n",
        "thisConfusionMatrix = cMatrix(argMaxesTrues, argMaxesPredictions, normalize = 'all')\n",
        "ax.imshow(thisConfusionMatrix)\n",
        "\n",
        "#labeling the axes with the proper class type number\n",
        "#this can be used to go back to the proper tissue type with y_index_key\n",
        "\n",
        "ticks = range(46)\n",
        "labels = list(y_index_key.values())\n",
        "ax.set_xticks(ticks, labels=labels)\n",
        "\n",
        "\n",
        "\n",
        "fig1.show()\n",
        "\n",
        "\n",
        "\n"
      ]
    },
    {
      "cell_type": "code",
      "source": [
        "\"\"\"Cell 20: Building classification report\"\"\"\n",
        "from sklearn.metrics import classification_report as clsftnReport\n",
        "\n",
        "#argmax predictions/trues\n",
        "argMaxesPredictions = [np.argmax(yPredictionVector) for yPredictionVector in y_predict]\n",
        "argMaxesTrues = [np.argmax(yPredictionVector) for yPredictionVector in dataset_test.y_data]\n",
        "\n",
        "#getting the names of the tissues from the y_index_key\n",
        "tissueNames = list(y_index_key.keys())\n",
        "\n",
        "#building classification report\n",
        "thisReport = clsftnReport(argMaxesTrues,argMaxesPredictions, target_names = tissueNames)"
      ],
      "metadata": {
        "colab": {
          "base_uri": "https://localhost:8080/"
        },
        "id": "4myzqcTJR0kM",
        "outputId": "e4734e8b-32dd-4604-e919-0aa8511ab886"
      },
      "execution_count": 24,
      "outputs": [
        {
          "output_type": "stream",
          "name": "stderr",
          "text": [
            "/usr/local/lib/python3.10/dist-packages/sklearn/metrics/_classification.py:1344: UndefinedMetricWarning: Precision and F-score are ill-defined and being set to 0.0 in labels with no predicted samples. Use `zero_division` parameter to control this behavior.\n",
            "  _warn_prf(average, modifier, msg_start, len(result))\n",
            "/usr/local/lib/python3.10/dist-packages/sklearn/metrics/_classification.py:1344: UndefinedMetricWarning: Precision and F-score are ill-defined and being set to 0.0 in labels with no predicted samples. Use `zero_division` parameter to control this behavior.\n",
            "  _warn_prf(average, modifier, msg_start, len(result))\n",
            "/usr/local/lib/python3.10/dist-packages/sklearn/metrics/_classification.py:1344: UndefinedMetricWarning: Precision and F-score are ill-defined and being set to 0.0 in labels with no predicted samples. Use `zero_division` parameter to control this behavior.\n",
            "  _warn_prf(average, modifier, msg_start, len(result))\n"
          ]
        }
      ]
    },
    {
      "cell_type": "code",
      "source": [
        "\"\"\"Cell 21: Print and intepret the classification report \"\"\"\n",
        "\n",
        "\"\"\"Used for P5 Q5\"\"\"\n",
        "from math import e\n",
        "#showing first 5 rows\n",
        "print(thisReport)\n",
        "\n",
        "\n",
        "#getting the frequencies of the test data and adding to dictionary\n",
        "countsDict = {}\n",
        "\n",
        "totalCounts = 0\n",
        "for x,y in dataset_test:\n",
        "\n",
        "  currentClass = list(y).index(1)\n",
        "  if currentClass in countsDict.keys():\n",
        "    countsDict[currentClass] += 1\n",
        "    totalCounts +=1\n",
        "  else:\n",
        "    countsDict[currentClass] = 1\n",
        "    totalCounts += 1\n",
        "\n",
        "#sorting old dictionary\n",
        "newDict = dict(sorted(countsDict.items(), key = lambda x: x[1], reverse = True))\n",
        "\n",
        "#getting the relative frequencies of each class\n",
        "frequencyDict = {}\n",
        "sum = 0\n",
        "for key, value in newDict.items():\n",
        "  sum+=value/totalCounts\n",
        "  tissueType = list(y_index_key.keys())[list(y_index_key.values()).index(key)]\n",
        "\n",
        "  frequencyDict[tissueType] = value/totalCounts\n",
        "\n",
        "print(frequencyDict)\n",
        "\n"
      ],
      "metadata": {
        "colab": {
          "base_uri": "https://localhost:8080/"
        },
        "id": "_ZrVSM3kZmd2",
        "outputId": "4758c7ea-fa3c-49dd-f13f-4c0b83540cf8"
      },
      "execution_count": 25,
      "outputs": [
        {
          "output_type": "stream",
          "name": "stdout",
          "text": [
            "                            precision    recall  f1-score   support\n",
            "\n",
            "            Adipose Tissue       0.90      1.00      0.95       103\n",
            "             Adrenal Gland       0.96      1.00      0.98        26\n",
            "             Adrenal gland       1.00      0.93      0.97        15\n",
            "                 Bile duct       0.80      0.44      0.57         9\n",
            "                   Bladder       0.91      0.99      0.95        87\n",
            "                     Blood       1.00      1.00      1.00        89\n",
            "              Blood Vessel       0.99      0.98      0.99       121\n",
            "               Bone Marrow       1.00      1.00      1.00        14\n",
            "                     Brain       0.98      1.00      0.99       369\n",
            "                    Breast       1.00      0.95      0.97       278\n",
            "                    Cervix       0.95      0.87      0.91        62\n",
            "              Cervix Uteri       0.00      0.00      0.00         2\n",
            "                     Colon       0.84      0.93      0.88       128\n",
            "               Endometrium       0.86      0.90      0.88        41\n",
            "                 Esophagus       0.93      0.92      0.92       170\n",
            "                       Eye       0.89      1.00      0.94        16\n",
            "            Fallopian Tube       0.00      0.00      0.00         1\n",
            "      Head and Neck region       0.96      0.88      0.92       113\n",
            "                     Heart       1.00      0.99      0.99        75\n",
            "                    Kidney       0.99      0.99      0.99       239\n",
            "   Lining of body cavities       0.94      0.94      0.94        17\n",
            "                     Liver       0.96      0.99      0.98       106\n",
            "                      Lung       0.96      0.98      0.97       282\n",
            "          Lymphatic tissue       0.82      1.00      0.90         9\n",
            "                    Muscle       0.98      1.00      0.99        79\n",
            "                     Nerve       0.97      1.00      0.98        56\n",
            "                     Ovary       0.98      0.97      0.98       103\n",
            "                  Pancreas       0.98      0.93      0.96        70\n",
            "               Paraganglia       0.95      0.97      0.96        37\n",
            "                 Pituitary       1.00      1.00      1.00        21\n",
            "                  Prostate       1.00      0.99      1.00       130\n",
            "                    Rectum       0.00      0.00      0.00        21\n",
            "            Salivary Gland       1.00      0.91      0.95        11\n",
            "                      Skin       0.99      0.99      0.99       257\n",
            "           Small Intestine       0.90      1.00      0.95        18\n",
            "          Soft tissue,Bone       0.92      0.87      0.89        53\n",
            "                    Spleen       1.00      1.00      1.00        20\n",
            "                   Stomach       0.86      0.92      0.89       125\n",
            "SympatheticÊNervous System       1.00      1.00      1.00        32\n",
            "                    Testis       0.98      0.98      0.98        64\n",
            "                    Thymus       1.00      0.96      0.98        24\n",
            "                   Thyroid       1.00      1.00      1.00        56\n",
            "             Thyroid Gland       1.00      1.00      1.00       114\n",
            "                    Uterus       0.79      0.85      0.82        27\n",
            "                    Vagina       0.94      0.94      0.94        17\n",
            "          White blood cell       0.99      1.00      1.00       119\n",
            "\n",
            "                  accuracy                           0.96      3826\n",
            "                 macro avg       0.89      0.89      0.89      3826\n",
            "              weighted avg       0.96      0.96      0.96      3826\n",
            "\n",
            "{'Brain': 0.09644537375849452, 'Lung': 0.07370622059592263, 'Breast': 0.07266074228959749, 'Skin': 0.06717198118139049, 'Kidney': 0.06246732880292734, 'Esophagus': 0.04443282801881861, 'Prostate': 0.03397804495556717, 'Colon': 0.0334553058024046, 'Stomach': 0.032671197072660745, 'Blood Vessel': 0.031625718766335596, 'White blood cell': 0.031102979613173026, 'Thyroid Gland': 0.029796131730266597, 'Head and Neck region': 0.02953476215368531, 'Liver': 0.02770517511761631, 'Adipose Tissue': 0.026921066387872453, 'Ovary': 0.026921066387872453, 'Blood': 0.02326189231573445, 'Bladder': 0.022739153162571878, 'Muscle': 0.020648196549921588, 'Heart': 0.019602718243596447, 'Pancreas': 0.018295870360690015, 'Testis': 0.0167276529012023, 'Cervix': 0.01620491374803973, 'Nerve': 0.014636696288552013, 'Thyroid': 0.014636696288552013, 'Soft tissue,Bone': 0.013852587558808156, 'Endometrium': 0.010716152639832723, 'Paraganglia': 0.00967067433350758, 'SympatheticÊNervous System': 0.00836382645060115, 'Uterus': 0.0070569785676947204, 'Adrenal Gland': 0.006795608991113434, 'Thymus': 0.006272869837950863, 'Rectum': 0.005488761108207005, 'Pituitary': 0.005488761108207005, 'Spleen': 0.005227391531625719, 'Small Intestine': 0.004704652378463147, 'Vagina': 0.004443282801881861, 'Lining of body cavities': 0.004443282801881861, 'Eye': 0.004181913225300575, 'Adrenal gland': 0.003920543648719289, 'Bone Marrow': 0.0036591740721380033, 'Salivary Gland': 0.002875065342394145, 'Lymphatic tissue': 0.0023523261892315736, 'Bile duct': 0.0023523261892315736, 'Cervix Uteri': 0.0005227391531625719, 'Fallopian Tube': 0.00026136957658128593}\n"
          ]
        }
      ]
    },
    {
      "cell_type": "markdown",
      "source": [
        "# **Part 1 Answers**\n",
        "Questions:\n",
        "\n",
        "*1*. How many training examples are in the dataset?\n",
        "19126\n",
        "\n",
        "*2*. What proportion (%) of the full dataset has been set aside for testing?\n",
        "3826/(15300+3826); this is approximately 20% of the data (80-20 split).\n",
        "\n",
        "*3*. How many gene expression values will be used as input to classify each sample in the dataset?\n",
        "There are 5172 of them per expression vector.\n",
        "\n",
        "*4*. How many tissue types are there in the data labels?\n",
        "46; the same number as number of output classes.\n",
        "\n",
        "*5*. When performing classification with a neural network, the output vector is an array with n variables, where each variable describes the probability that your input belongs to one class in your classification problem. Based on this information, what should be the size of your output layer in the neural network?\n",
        "\n",
        "If n = number of training examples and there are 46 possible classes, the output vector consists of an array of this size: n * 46\n",
        "\n",
        "*6*. How will you know which index in the output corresponds to which tissue type once you feed your data into the model and get your output?\n",
        "\n",
        "We formed a dictionary while loading the data called y_index_key. It pairs each index of the vector with its tissue type. We will supply the resulting output indices into the dictionary to return the tissue types that correspond to them."
      ],
      "metadata": {
        "id": "kYTfsZJfak66"
      }
    },
    {
      "cell_type": "markdown",
      "source": [
        "# **Part 2 Answers**\n",
        "\n",
        "They are left above in the code blocks for Pt. 2, since they aren't text heavy."
      ],
      "metadata": {
        "id": "KwlbYDMSapRi"
      }
    },
    {
      "cell_type": "markdown",
      "source": [
        "# **Part 3 Answers**\n",
        "\n",
        "For this section, you will be assessing the performance of a draft model.\n",
        "\n",
        "\n",
        "1. The initial model will (probably) be so bad that you will be unable to use it as a starting point. Perform some changes to your model architecture and training parameters until your final loss is no longer undefined (nan). Don’t edit the loss function (we will do this later in the assignment). Once your model consistently obtains a reasonable loss (usually below 1) you can start working on assessing its performance. Describe the changes you made.\n",
        "\n",
        "It turns out that the model as written obtained a final loss of .021. As such, no changes are (currently) there.\n",
        "\n",
        "2. The first step towards assessing your model will be to compare your predictions to their expected values. Edit your test methods so they return the true y vectors and the y prediction vectors back to your final code block. Print the shapes of these arrays to ensure they are exactly the same dimensions. What are their dimensions?\n",
        "\n",
        "They are 3826 x 46, as expected.\n",
        "\n",
        "3. Do these match your test set size from part 1?\n",
        "\n",
        "Yes.\n",
        "\n",
        "\n",
        "\n",
        "4. Rewrite the final code block that declares the dataset and calls run(). You will have to\n",
        "initialize the PrimarySiteDataset class for your training and testing set like so:\n",
        "\n",
        "x_train_path = \"x_train.npz\"\n",
        "\n",
        "y_train_path = \"y_train.npz\"\n",
        "\n",
        "x_test_path = \"x_test.npz\"\n",
        "\n",
        "y_test_path = \"y_test.npz\"\n",
        "\n",
        "dataset_train = PrimarySiteDataset(x_path=x_train_path,\n",
        "y_path=y_train_path)\n",
        "\n",
        "dataset_test = PrimarySiteDataset(x_path=x_test_path,\n",
        "y_path=y_test_path)\n"
      ],
      "metadata": {
        "id": "p0MUYIqHaqOu"
      }
    },
    {
      "cell_type": "markdown",
      "source": [
        "# **Part 3 Written Answers**\n",
        "\n",
        "5. We only want to know which class the model predicted to be the most probable. Use numpy.argmax() to take the raw predicted and expected output vectors and find the index of their maximum value.\n",
        "\n",
        "Now you can quickly compare whether there is a match or mismatch between your models prediction and the true value. Print the shape of your argmax vectors to verify they have n entries. Write the first value of y_argmax and y_predict_argmax and compare them to the table you made in #4. Does the relationship between these values and your #4 values make sense. Do you expect the y_predict argmax to match your truth set?\n",
        "\n",
        "See Code Cell 17...both of them are 8, which is the the index in the table in the true classification vector where there is a 1, as expected.\n",
        "\n",
        "The relationship does make sense; we expect the argmaxes to match. This is because the prediction should approximate the target function.\n",
        "\n",
        "6. Add to your above method to calculate the percentage of matches between your predictions and known values. What is your overall classification accuracy? It’s expected that it won’t be great at this stage.\n",
        "\n",
        "That's true; before any adjustment, it was about 9.64% accurate.\n",
        "\n",
        "Run 1: After adjusting the learning rate, activation function, and optimizer, it is 10 times that.\n",
        "\n",
        "7. Plot a histogram of your argmax values for y, and for predicted y. How do they compare? In which scenarios would you expect your predicted distribution to match or not match your true distribution? Your truth set for y should have a histogram that looks something like this (I won't paste it this time to reduce the size of this cell):\n",
        "\n",
        "See Code Cell 18...\n",
        "\n",
        "They are similar in shape; we would expect them to match if the classification accuracy of the neural network is high and vice versa."
      ],
      "metadata": {
        "id": "zAKUN6DW0ljY"
      }
    },
    {
      "cell_type": "markdown",
      "source": [
        "# **Part 5 Answers**"
      ],
      "metadata": {
        "id": "OW1U-oEzaQ3n"
      }
    },
    {
      "cell_type": "markdown",
      "source": [
        "**Log of Changes:**\n",
        "\n",
        "1) Changed the learning rate from 1e-5 to 1e-7\n",
        "-> Accuracy of 72% to .048!!!!\n",
        "\n",
        "->Eventually changed it back and added constant to get current accuracy rate.\n",
        "\n",
        "2) Implemented the SGD Optimizer to improve runtime:\n",
        "https://pytorch.org/docs/stable/generated/torch.optim.SGD.html\n",
        "->Cut runtime down to about 2 minutes from 5\n",
        "\n",
        "**Questions**\n",
        "\n",
        "*1.* Make a normalized confusion matrix with your results, and plot it as a heat map (pyplot.imshow). Make sure the axis are labelled either with the text name of each class or something that will allow you to look up the class name.\n",
        "Confusion Matrix: https://scikit-learn.org/stable/modules/generated/sklearn.metrics.confusion_matrix.html\n",
        "\n",
        "See this page for instructions on displaying a normalized confusion matrix: https://scikit-learn.org/stable/auto_examples/model_selection/plot_confusion_matrix.html\n",
        "\n",
        "See Code Cell 11.\n",
        "\n",
        "\n",
        "\n",
        "*2.* Once you have something you are satisfied with, report how the data was processed (if different from the provided script), your architecture, and your training parameters.\n",
        "\n",
        "The data was processed as it was in the provided script. This is the architecture...:\n",
        "\n",
        "-Shallow Neural Network\n",
        "\n",
        "-4 layers; 2 linear hidden layers with 40 nodes each -Layers' activation functions are all relu\n",
        "\n",
        "-Using SGD optimizer like we did in class (originally Adam function, but runtime was too long and accuracy was lower)\n",
        "\n",
        "-Using the Cross Entropy Loss function\n",
        "\n",
        "Training Parameters:\n",
        "\n",
        "Split: 0%/20% train/test\n",
        "\n",
        "Learning Rate Hyperparameter: 1e-4 + .3e-6\n",
        "\n",
        "*3.* What is your final accuracy (overall percent)?\n",
        "\n",
        "96%!\n",
        "\n",
        "*4.* What tissue types were most “confusing” for the model? Answer in terms of which classes were most inter-confused, and quantitative accuracy for each of the most confused classes. You may use this method to compute quantitative stats for each class.\n",
        "This method: https://scikit-learn.org/stable/modules/generated/sklearn.metrics.classification_report.html\n",
        "\n",
        "5 most confusing classes:\n",
        "\n",
        "Bile Duct biopsies - only 2/3 precision here (0.67)\n",
        "\n",
        "Uterus biopsies - only around 3/4 precision (0.73)\n",
        "\n",
        "Bone biopsies - 0.82 precision\n",
        "\n",
        "Colon - 0.83 precision\n",
        "\n",
        "Endometrium - 0.84 precision\n",
        "\n",
        "\n",
        "*5.* How does each class’s frequency correlate (if at all) to the model’s performance for that class, qualitatively or quantitatively?\n",
        "\n",
        "There is a weak negative correlation between model performance and class relative frequency. For example, the most confusing classes, bile dict biopsy, is the third least frequent class present, and the next most confusion, uterus, is this 17th least frequent. Qualitatively speaking, all of the most confusion classes below 85% precision levels are toward the bottom of the class distribution.  \n",
        "\n",
        "See Code Cell 12...\n",
        "\n",
        "*6.* Describe your strategy for choosing hyperparameters. Did you use any form of evaluation to inform your decisions? If you have recorded the steps you took to reach your final configuration, write them here.\n",
        "\n",
        "First, I assessed the runtime of the NN using each of several possible optimizers, with a simple stopwatch to record runtimes. The default optimizer (Adam function) had a runtime of close to 5 minutes, whereas SGD like we used in class is closer to 1.5.\n",
        "\n",
        "Next, using various learning rates, I assessed the accuracy percentage to determine which learning rate would be most appropriate. I first changed the order of magnitude by two greater or two lesser, and saw that there were a great gain in changing the order from -7 to -5. However, lots of accuracy was lost when changing the order to -4.\n",
        "\n",
        "Then, I chose to add a term of order -6 to the learning rate, and chose different mantissas by inspection before obtaining the current one, .3."
      ],
      "metadata": {
        "id": "XSkcAz2ryEAO"
      }
    },
    {
      "cell_type": "markdown",
      "source": [
        "7. Assume you have a network with the following dimensions:\n",
        "Input: 32 nodes\n",
        "Hidden: 64 nodes\n",
        "Output: 4 nodes\n",
        "\n",
        "What is the total number of weight parameters you are optimizing?\n",
        "Assuming that the layers are linear...\n",
        "\n",
        "32 nodes -> 64 nodes -> 4 nodes\n",
        "\n",
        "32x64 + 64x4 weights = 2304 weights\n",
        "\n",
        "What is the total number of bias parameters you are optimizing?\n",
        "\n",
        "Assuming one bias per hidden node in each activation function, you are optimizing 64 of them.\n",
        "\n",
        "\n",
        "For **your network**, how many weight parameters are you optimizing? How does this compare to the number of training examples in your dataset?\n",
        "\n",
        "Here we have:\n",
        "\n",
        "Input: 5172 nodes\n",
        "Hidden 1: 40 nodes\n",
        "Hidden 2: 40 nodes\n",
        "Output: 46 nodes\n",
        "\n",
        "5172 nodes -> 40 nodes -> 40 nodes -> 46 nodes\n",
        "\n",
        "5172x40 + 40x40 + 40x46 = 210320 weights, much greater than the 15300 training examples.  \n"
      ],
      "metadata": {
        "id": "Lhs5WFqx23Ch"
      }
    },
    {
      "cell_type": "markdown",
      "source": [
        "8. Given these numbers, do you think there is any risk of overfitting? Considering the size and diversity of this test set would you be confident that this model will generalize to all future data you might encounter?\n",
        "\n",
        "Since the number of training examples is far less than the number of parameters optimized, there is a very high risk of overfitting. Thus, the model would probably not generalize too well to future data."
      ],
      "metadata": {
        "id": "c2-W-JTS6mcF"
      }
    },
    {
      "cell_type": "markdown",
      "source": [
        "9. Do you think there is a better combination of hyperparameters (not model parameters) with respect to the test results? Are there any obvious shortcomings in your opinion? If you had infinite time/resources how might you improve your methods?\n",
        "\n",
        "Yes, I only tested the few combinations listeed in my answer to Q6. There are a host of other optimizers with their own optimal set of learning rates. If I had infinite time, I would try all of the various optimizers with Pytorch and vary the learning rates several times for each. With quicker runtime (which could use the TPU that I don't current have a license to use), that would make it even more efficient. Ultimately, my opinion on which are best is determined by how willing I am to optimize the hyperparameters."
      ],
      "metadata": {
        "id": "QisRhNCC8OnL"
      }
    },
    {
      "cell_type": "markdown",
      "source": [
        "10. Other than the hyperparameters, what might affect this model’s performance?\n",
        "\n",
        "The train/test split could be better configured to ensure less overfitting (also the architecture of the NN, as discussed in 8). Addionally, the optimzers and actual activation functions used in the hidden layers too could be changed to improve performance."
      ],
      "metadata": {
        "id": "NkHm3AjiIycq"
      }
    },
    {
      "cell_type": "markdown",
      "source": [
        "11. You may have noticed that the “adrenal gland” tissue label is duplicated. If your model is actually separating them, what might that indicate about its ability to generalize to new “adrenal gland” tissue types?\n",
        "\n",
        "It indicates that the model should be able to seperate any new adrenal gland tissue vectors that are added. This is for better or for worse, since the user might intend for the new vector to be classified as the old class.\n"
      ],
      "metadata": {
        "id": "WISoU40YJY7n"
      }
    }
  ],
  "metadata": {
    "accelerator": "TPU",
    "colab": {
      "provenance": []
    },
    "kernelspec": {
      "display_name": "Python 3",
      "name": "python3"
    }
  },
  "nbformat": 4,
  "nbformat_minor": 0
}